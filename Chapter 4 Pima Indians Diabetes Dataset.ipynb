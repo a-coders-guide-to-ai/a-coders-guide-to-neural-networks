{
 "cells": [
  {
   "cell_type": "markdown",
   "metadata": {
    "papermill": {
     "duration": 0.031677,
     "end_time": "2020-11-04T03:20:15.058651",
     "exception": false,
     "start_time": "2020-11-04T03:20:15.026974",
     "status": "completed"
    },
    "tags": []
   },
   "source": [
    "# Logistic Regression with a Kaggle Dataset \n",
    "\n",
    "Up until now, we've been working with mock data, but in this chapter, we'll actually be looking at a real dataset which can be found on Kaggle. The dataset we'll be using is the Pima Indians Diabetes dataset. We won't actually be discussing the dataset in detail, but if you wish, you can read more about it here: https://www.kaggle.com/uciml/pima-indians-diabetes-database . I have the dataset already placed in the GitHub repo for this lesson, allowing for easy access. It allows us to not spend too much time importing the data.\n",
    "\n",
    "Let's start coding! The url to the dataset can be found in the code cell where we call pd.read_csv. We're going to import the csv file using Pandas. Pandas is a famous data science library used to hold data and analyze data. It holds the data in what is known as a dataframe. We're not going to dwell much more than that on Pandas, but if you wish to learn more about it, you can read further on their website: https://pandas.pydata.org/ . Along with Pandas, we'll also be importing PyTorch and Matplotlib."
   ]
  },
  {
   "cell_type": "code",
   "execution_count": 2,
   "metadata": {
    "_cell_guid": "b1076dfc-b9ad-4769-8c92-a6c4dae69d19",
    "_uuid": "8f2839f25d086af736a60e9eeb907d3b93b6e0e5",
    "execution": {
     "iopub.execute_input": "2020-11-04T03:20:15.124361Z",
     "iopub.status.busy": "2020-11-04T03:20:15.123618Z",
     "iopub.status.idle": "2020-11-04T03:20:16.197792Z",
     "shell.execute_reply": "2020-11-04T03:20:16.196163Z"
    },
    "papermill": {
     "duration": 1.109168,
     "end_time": "2020-11-04T03:20:16.197999",
     "exception": false,
     "start_time": "2020-11-04T03:20:15.088831",
     "status": "completed"
    },
    "tags": []
   },
   "outputs": [],
   "source": [
    "import pandas as pd\n",
    "import torch\n",
    "import matplotlib.pyplot as plt"
   ]
  },
  {
   "cell_type": "markdown",
   "metadata": {
    "papermill": {
     "duration": 0.030102,
     "end_time": "2020-11-04T03:20:16.267238",
     "exception": false,
     "start_time": "2020-11-04T03:20:16.237136",
     "status": "completed"
    },
    "tags": []
   },
   "source": [
    "## 4.1 Diabetes Dataset\n",
    "\n",
    "The code cell below shows how to import the dataset using Pandas. It's very straightforward."
   ]
  },
  {
   "cell_type": "code",
   "execution_count": 5,
   "metadata": {
    "_cell_guid": "79c7e3d0-c299-4dcb-8224-4455121ee9b0",
    "_uuid": "d629ff2d2480ee46fbb7e2d37f6b5fab8052498a",
    "execution": {
     "iopub.execute_input": "2020-11-04T03:20:16.337563Z",
     "iopub.status.busy": "2020-11-04T03:20:16.336492Z",
     "iopub.status.idle": "2020-11-04T03:20:16.348756Z",
     "shell.execute_reply": "2020-11-04T03:20:16.347929Z"
    },
    "papermill": {
     "duration": 0.05172,
     "end_time": "2020-11-04T03:20:16.348925",
     "exception": false,
     "start_time": "2020-11-04T03:20:16.297205",
     "status": "completed"
    },
    "tags": []
   },
   "outputs": [],
   "source": [
    "df = pd.read_csv(r'https://raw.githubusercontent.com/a-coders-guide-to-ai/a-coders-guide-to-neural-networks/master/data/diabetes.csv')"
   ]
  },
  {
   "cell_type": "markdown",
   "metadata": {
    "papermill": {
     "duration": 0.030197,
     "end_time": "2020-11-04T03:20:16.413645",
     "exception": false,
     "start_time": "2020-11-04T03:20:16.383448",
     "status": "completed"
    },
    "tags": []
   },
   "source": [
    "We imported the data into the variable df. Let's take a peak at how it looks. Calling the head function allows us to see the first 5 rows of the dataset."
   ]
  },
  {
   "cell_type": "code",
   "execution_count": 6,
   "metadata": {
    "execution": {
     "iopub.execute_input": "2020-11-04T03:20:16.491227Z",
     "iopub.status.busy": "2020-11-04T03:20:16.490221Z",
     "iopub.status.idle": "2020-11-04T03:20:16.501208Z",
     "shell.execute_reply": "2020-11-04T03:20:16.500530Z"
    },
    "papermill": {
     "duration": 0.055822,
     "end_time": "2020-11-04T03:20:16.501336",
     "exception": false,
     "start_time": "2020-11-04T03:20:16.445514",
     "status": "completed"
    },
    "tags": []
   },
   "outputs": [
    {
     "data": {
      "text/html": [
       "<div>\n",
       "<style scoped>\n",
       "    .dataframe tbody tr th:only-of-type {\n",
       "        vertical-align: middle;\n",
       "    }\n",
       "\n",
       "    .dataframe tbody tr th {\n",
       "        vertical-align: top;\n",
       "    }\n",
       "\n",
       "    .dataframe thead th {\n",
       "        text-align: right;\n",
       "    }\n",
       "</style>\n",
       "<table border=\"1\" class=\"dataframe\">\n",
       "  <thead>\n",
       "    <tr style=\"text-align: right;\">\n",
       "      <th></th>\n",
       "      <th>Pregnancies</th>\n",
       "      <th>Glucose</th>\n",
       "      <th>BloodPressure</th>\n",
       "      <th>SkinThickness</th>\n",
       "      <th>Insulin</th>\n",
       "      <th>BMI</th>\n",
       "      <th>DiabetesPedigreeFunction</th>\n",
       "      <th>Age</th>\n",
       "      <th>Outcome</th>\n",
       "    </tr>\n",
       "  </thead>\n",
       "  <tbody>\n",
       "    <tr>\n",
       "      <th>0</th>\n",
       "      <td>6</td>\n",
       "      <td>148</td>\n",
       "      <td>72</td>\n",
       "      <td>35</td>\n",
       "      <td>0</td>\n",
       "      <td>33.6</td>\n",
       "      <td>0.627</td>\n",
       "      <td>50</td>\n",
       "      <td>1</td>\n",
       "    </tr>\n",
       "    <tr>\n",
       "      <th>1</th>\n",
       "      <td>1</td>\n",
       "      <td>85</td>\n",
       "      <td>66</td>\n",
       "      <td>29</td>\n",
       "      <td>0</td>\n",
       "      <td>26.6</td>\n",
       "      <td>0.351</td>\n",
       "      <td>31</td>\n",
       "      <td>0</td>\n",
       "    </tr>\n",
       "    <tr>\n",
       "      <th>2</th>\n",
       "      <td>8</td>\n",
       "      <td>183</td>\n",
       "      <td>64</td>\n",
       "      <td>0</td>\n",
       "      <td>0</td>\n",
       "      <td>23.3</td>\n",
       "      <td>0.672</td>\n",
       "      <td>32</td>\n",
       "      <td>1</td>\n",
       "    </tr>\n",
       "    <tr>\n",
       "      <th>3</th>\n",
       "      <td>1</td>\n",
       "      <td>89</td>\n",
       "      <td>66</td>\n",
       "      <td>23</td>\n",
       "      <td>94</td>\n",
       "      <td>28.1</td>\n",
       "      <td>0.167</td>\n",
       "      <td>21</td>\n",
       "      <td>0</td>\n",
       "    </tr>\n",
       "    <tr>\n",
       "      <th>4</th>\n",
       "      <td>0</td>\n",
       "      <td>137</td>\n",
       "      <td>40</td>\n",
       "      <td>35</td>\n",
       "      <td>168</td>\n",
       "      <td>43.1</td>\n",
       "      <td>2.288</td>\n",
       "      <td>33</td>\n",
       "      <td>1</td>\n",
       "    </tr>\n",
       "  </tbody>\n",
       "</table>\n",
       "</div>"
      ],
      "text/plain": [
       "   Pregnancies  Glucose  BloodPressure  SkinThickness  Insulin   BMI  \\\n",
       "0            6      148             72             35        0  33.6   \n",
       "1            1       85             66             29        0  26.6   \n",
       "2            8      183             64              0        0  23.3   \n",
       "3            1       89             66             23       94  28.1   \n",
       "4            0      137             40             35      168  43.1   \n",
       "\n",
       "   DiabetesPedigreeFunction  Age  Outcome  \n",
       "0                     0.627   50        1  \n",
       "1                     0.351   31        0  \n",
       "2                     0.672   32        1  \n",
       "3                     0.167   21        0  \n",
       "4                     2.288   33        1  "
      ]
     },
     "execution_count": 6,
     "metadata": {},
     "output_type": "execute_result"
    }
   ],
   "source": [
    "df.head()"
   ]
  },
  {
   "cell_type": "markdown",
   "metadata": {
    "papermill": {
     "duration": 0.034403,
     "end_time": "2020-11-04T03:20:16.568347",
     "exception": false,
     "start_time": "2020-11-04T03:20:16.533944",
     "status": "completed"
    },
    "tags": []
   },
   "source": [
    "Peaking at the first 5 rows of our dataset, we see that we have 9 columns. Before we continue, I want to let you know that \"Outcome\" is our target variable (i.e. the column we're going to try and predict) and the rest of the columns will be our features (i.e. the columns we're going to use to predict our target). We're going to initially make our predictions using logistic regression and then try again using neural networks.\n",
    "\n",
    "You're probably thinking that we just spent the last 3 chapters fitting lines to points on a graph and now we're talking about predicting if someone has diabetes or not. How does that even make sense? In the previous chapters, our data had 2 coordinates to them - an X coordinate and a Y coordinate. Given the X coordinate, we were fitting the lines to pass through our Y coordinates. Our lines fit really well through the points. In fact, they fit so well that if we got rid of the points, we could figure out where the points would be, just by seeing the Y value for our fitted line. That's exactly what we're trying to accomplish in this chapter. Instead of just an X and Y coordinate, we have X, Y and 7 other coordinates. The Y coordinate is our target and the other coordinates are our features. That's the only difference. Up until now, we only had 2D graphs (1st dimension being X and the 2nd dimension being Y), but now, we have an 8D graph. Due to human limitations, we can't visualize 8 dimensions, but that's OK. Our loss functions are here to help us. Our loss functions are our tools to figure out how well our line is fitting the points on the graph, without having the need to look at the actual line on a graph.\n",
    "\n",
    "That may have been a lot to take in, so maybe it's a good idea to look at a few diagrams. Let's take a look at a diagram which we saw back in chapter 2. Below, you'll find the computation graph for logistic regression."
   ]
  },
  {
   "cell_type": "markdown",
   "metadata": {
    "papermill": {
     "duration": 0.03171,
     "end_time": "2020-11-04T03:20:16.631060",
     "exception": false,
     "start_time": "2020-11-04T03:20:16.599350",
     "status": "completed"
    },
    "tags": []
   },
   "source": [
    "![logistic%20regression.png](images/logistic%20regression.png?raw=true)"
   ]
  },
  {
   "cell_type": "markdown",
   "metadata": {
    "papermill": {
     "duration": 0.03143,
     "end_time": "2020-11-04T03:20:16.695971",
     "exception": false,
     "start_time": "2020-11-04T03:20:16.664541",
     "status": "completed"
    },
    "tags": []
   },
   "source": [
    "The diagram above is the same one we looked at in chapter 2. If you need a refresher, just refer back to chapter 2.\n",
    "\n",
    "The diagram below is the simplified version of the diagram above. You'll see that the 2 middle circles (the linear and logistic equations) are combined into 1 circle. The circle encompasses both equations, in the form of 1 equation and is referred to as a neuron."
   ]
  },
  {
   "cell_type": "markdown",
   "metadata": {
    "papermill": {
     "duration": 0.03051,
     "end_time": "2020-11-04T03:20:16.757642",
     "exception": false,
     "start_time": "2020-11-04T03:20:16.727132",
     "status": "completed"
    },
    "tags": []
   },
   "source": [
    "![logistic%20regression%20simplified.png](images/logistic%20regression%20simplified.png?raw=true)"
   ]
  },
  {
   "cell_type": "markdown",
   "metadata": {
    "papermill": {
     "duration": 0.030502,
     "end_time": "2020-11-04T03:20:16.819013",
     "exception": false,
     "start_time": "2020-11-04T03:20:16.788511",
     "status": "completed"
    },
    "tags": []
   },
   "source": [
    "The diagram below is the graph which represents how we're going to perform our logistic regression task in this chapter. The graph is more or less the same in terms of the equations. We have 1 neuron and our loss function will remain the BCE. The only difference is, instead of 2 inputs (i.e. X and 1), we now have 9 inputs (i.e. all the features of the dataset and 1).\n",
    "\n",
    "I hope it's clear on how we're going to apply logistic regression to the diabetes dataset to make our predictions."
   ]
  },
  {
   "cell_type": "markdown",
   "metadata": {
    "papermill": {
     "duration": 0.030925,
     "end_time": "2020-11-04T03:20:16.881341",
     "exception": false,
     "start_time": "2020-11-04T03:20:16.850416",
     "status": "completed"
    },
    "tags": []
   },
   "source": [
    "<img src=\"images/logistic%20regression%20diabetes.png?raw=true\"  width=\"600\" height=\"600\">"
   ]
  },
  {
   "cell_type": "markdown",
   "metadata": {
    "papermill": {
     "duration": 0.05232,
     "end_time": "2020-11-04T03:20:16.964806",
     "exception": false,
     "start_time": "2020-11-04T03:20:16.912486",
     "status": "completed"
    },
    "tags": []
   },
   "source": [
    "## 4.2 Matrix Multiplication\n",
    "\n",
    "Didn't we already go over matrix multiplication in chapter 1? Yes, we did, sorta. We went over it for when there's only 1 feature, but let's go over some neat tricks on how we can make it work for us when there's multiple features. "
   ]
  },
  {
   "cell_type": "code",
   "execution_count": 4,
   "metadata": {
    "execution": {
     "iopub.execute_input": "2020-11-04T03:20:17.050846Z",
     "iopub.status.busy": "2020-11-04T03:20:17.049597Z",
     "iopub.status.idle": "2020-11-04T03:20:17.057937Z",
     "shell.execute_reply": "2020-11-04T03:20:17.056858Z"
    },
    "papermill": {
     "duration": 0.06,
     "end_time": "2020-11-04T03:20:17.058255",
     "exception": false,
     "start_time": "2020-11-04T03:20:16.998255",
     "status": "completed"
    },
    "tags": []
   },
   "outputs": [],
   "source": [
    "weights_E = torch.tensor([2,3,4])\n",
    "X_E = torch.tensor([[9,8,7], [4,5,6]])"
   ]
  },
  {
   "cell_type": "markdown",
   "metadata": {
    "papermill": {
     "duration": 0.031057,
     "end_time": "2020-11-04T03:20:17.131936",
     "exception": false,
     "start_time": "2020-11-04T03:20:17.100879",
     "status": "completed"
    },
    "tags": []
   },
   "source": [
    "Above, we just made some temporary variables. We currently don't have a bias, but that's not a problem. Let me show you something cool. "
   ]
  },
  {
   "cell_type": "code",
   "execution_count": 5,
   "metadata": {
    "execution": {
     "iopub.execute_input": "2020-11-04T03:20:17.208538Z",
     "iopub.status.busy": "2020-11-04T03:20:17.207639Z",
     "iopub.status.idle": "2020-11-04T03:20:17.240502Z",
     "shell.execute_reply": "2020-11-04T03:20:17.241083Z"
    },
    "papermill": {
     "duration": 0.072458,
     "end_time": "2020-11-04T03:20:17.241254",
     "exception": false,
     "start_time": "2020-11-04T03:20:17.168796",
     "status": "completed"
    },
    "tags": []
   },
   "outputs": [
    {
     "name": "stdout",
     "output_type": "stream",
     "text": [
      "tensor([70, 47])\n",
      "tensor([70, 47])\n"
     ]
    }
   ],
   "source": [
    "print(torch.sum(weights_E*X_E, axis=1))\n",
    "print(weights_E@X_E.T)"
   ]
  },
  {
   "cell_type": "markdown",
   "metadata": {
    "papermill": {
     "duration": 0.031518,
     "end_time": "2020-11-04T03:20:17.304744",
     "exception": false,
     "start_time": "2020-11-04T03:20:17.273226",
     "status": "completed"
    },
    "tags": []
   },
   "source": [
    "What just happened there? I just showed you 2 lines that gave the exact same output. Before I go over why that's important, let me cover this torch.sum on axis=1 bit. \n",
    "\n",
    "Remember in the chapters previous to this, we only did weights*X. We didn't sum them up. Why are we summing it up now? Let's take a look at the shape of our X in this example."
   ]
  },
  {
   "cell_type": "code",
   "execution_count": 6,
   "metadata": {
    "execution": {
     "iopub.execute_input": "2020-11-04T03:20:17.376919Z",
     "iopub.status.busy": "2020-11-04T03:20:17.375942Z",
     "iopub.status.idle": "2020-11-04T03:20:17.381485Z",
     "shell.execute_reply": "2020-11-04T03:20:17.380770Z"
    },
    "papermill": {
     "duration": 0.043907,
     "end_time": "2020-11-04T03:20:17.381613",
     "exception": false,
     "start_time": "2020-11-04T03:20:17.337706",
     "status": "completed"
    },
    "tags": []
   },
   "outputs": [
    {
     "data": {
      "text/plain": [
       "torch.Size([2, 3])"
      ]
     },
     "execution_count": 6,
     "metadata": {},
     "output_type": "execute_result"
    }
   ],
   "source": [
    "X_E.shape"
   ]
  },
  {
   "cell_type": "markdown",
   "metadata": {
    "papermill": {
     "duration": 0.033322,
     "end_time": "2020-11-04T03:20:17.447469",
     "exception": false,
     "start_time": "2020-11-04T03:20:17.414147",
     "status": "completed"
    },
    "tags": []
   },
   "source": [
    "It says torch.Size([2, 3]). That means that our X has 2 rows and 3 columns. The 3 columns (i.e. 3 features) is the new part. Let's compare the summed equation to the equation we've been using before this chapter."
   ]
  },
  {
   "cell_type": "code",
   "execution_count": 7,
   "metadata": {
    "execution": {
     "iopub.execute_input": "2020-11-04T03:20:17.517830Z",
     "iopub.status.busy": "2020-11-04T03:20:17.517022Z",
     "iopub.status.idle": "2020-11-04T03:20:17.522171Z",
     "shell.execute_reply": "2020-11-04T03:20:17.521411Z"
    },
    "papermill": {
     "duration": 0.042888,
     "end_time": "2020-11-04T03:20:17.522301",
     "exception": false,
     "start_time": "2020-11-04T03:20:17.479413",
     "status": "completed"
    },
    "tags": []
   },
   "outputs": [
    {
     "name": "stdout",
     "output_type": "stream",
     "text": [
      "tensor([[18, 24, 28],\n",
      "        [ 8, 15, 24]])\n",
      "tensor([70, 47])\n"
     ]
    }
   ],
   "source": [
    "print(weights_E*X_E)\n",
    "print(torch.sum(weights_E*X_E, axis=1))"
   ]
  },
  {
   "cell_type": "markdown",
   "metadata": {
    "papermill": {
     "duration": 0.032321,
     "end_time": "2020-11-04T03:20:17.587617",
     "exception": false,
     "start_time": "2020-11-04T03:20:17.555296",
     "status": "completed"
    },
    "tags": []
   },
   "source": [
    "You see that our summed equation returns 1 row with 2 columns, and our non-summed returns 2 rows and 3 columns. Instead of explaining with words, let's do our equations manually...\n",
    "\n",
    "Just to restate our variables<br>\n",
    "weights_E: [2,3,4]<br>\n",
    "X_E: [[9,8,7], [4,5,6]]<br><br>\n",
    "\n",
    "Row 1:<br>\n",
    "2(9) + 3(8) + 4(7)<br>\n",
    "=18 + 24 + 28<br>\n",
    "=70\n",
    "\n",
    "Row 2:<br>\n",
    "2(4) + 3(5) + 4(6)<br>\n",
    "=8 + 15 + 24<br>\n",
    "=47"
   ]
  },
  {
   "cell_type": "markdown",
   "metadata": {
    "papermill": {
     "duration": 0.032237,
     "end_time": "2020-11-04T03:20:17.652468",
     "exception": false,
     "start_time": "2020-11-04T03:20:17.620231",
     "status": "completed"
    },
    "tags": []
   },
   "source": [
    "We just had our equations written in 3 lines. When we don't sum the multiplication, then we get stuck at line 2, instead of getting to our final answer, which is line 3. The reason we didn't have to do this until this chapter is because there was only 1 column in our X before this. That meant that there weren't multiple columns to add. Our equation would give us the final answer without having to sum.\n",
    "\n",
    "Now, onto the part of the code where we replaced \"*\" with \"@\". Doing the replacement is special to PyTorch. It allowed us to skip the summation step, allowing our equation to look cleaner and perform multiple steps at once!\n",
    "\n",
    "There's one more part you probably noticed. Instead of using X_E, we used X_E.T. Why? Let's try it without the \".T\""
   ]
  },
  {
   "cell_type": "code",
   "execution_count": 8,
   "metadata": {
    "execution": {
     "iopub.execute_input": "2020-11-04T03:20:17.722385Z",
     "iopub.status.busy": "2020-11-04T03:20:17.721653Z",
     "iopub.status.idle": "2020-11-04T03:20:17.797118Z",
     "shell.execute_reply": "2020-11-04T03:20:17.796363Z"
    },
    "papermill": {
     "duration": 0.112116,
     "end_time": "2020-11-04T03:20:17.797247",
     "exception": false,
     "start_time": "2020-11-04T03:20:17.685131",
     "status": "completed"
    },
    "tags": []
   },
   "outputs": [
    {
     "ename": "RuntimeError",
     "evalue": "size mismatch, m1: [1 x 3], m2: [2 x 3] at /opt/conda/conda-bld/pytorch_1587428190859/work/aten/src/TH/generic/THTensorMath.cpp:41",
     "output_type": "error",
     "traceback": [
      "\u001b[0;31m---------------------------------------------------------------------------\u001b[0m",
      "\u001b[0;31mRuntimeError\u001b[0m                              Traceback (most recent call last)",
      "\u001b[0;32m<ipython-input-8-a7abf085eefb>\u001b[0m in \u001b[0;36m<module>\u001b[0;34m\u001b[0m\n\u001b[0;32m----> 1\u001b[0;31m \u001b[0mweights_E\u001b[0m\u001b[0;34m@\u001b[0m\u001b[0mX_E\u001b[0m\u001b[0;34m\u001b[0m\u001b[0;34m\u001b[0m\u001b[0m\n\u001b[0m",
      "\u001b[0;31mRuntimeError\u001b[0m: size mismatch, m1: [1 x 3], m2: [2 x 3] at /opt/conda/conda-bld/pytorch_1587428190859/work/aten/src/TH/generic/THTensorMath.cpp:41"
     ]
    }
   ],
   "source": [
    "weights_E@X_E"
   ]
  },
  {
   "cell_type": "markdown",
   "metadata": {
    "papermill": {
     "duration": 0.033208,
     "end_time": "2020-11-04T03:20:17.864410",
     "exception": false,
     "start_time": "2020-11-04T03:20:17.831202",
     "status": "completed"
    },
    "tags": []
   },
   "source": [
    "That code unfortunately gave us an error. The main thing I wish to direct you to is the part of the error which states \"size mismatch, m1: [1 x 3], m2: [2 x 3]\". Just to cover it quickly, in linear algebra, when we multiply 2 matrices, the amount of columns of the matrix on the left, needs to be the exact same value as the amount of rows of the matrix on the right. That means, in order for us to be able to successfully compute this equation, the amount of columns of the matrix on the left (i.e. 3) needs to either change to a 2, or the amount of rows of the matrix on the right (i.e. 2) needs to change to a 3."
   ]
  },
  {
   "cell_type": "markdown",
   "metadata": {
    "papermill": {
     "duration": 0.033095,
     "end_time": "2020-11-04T03:20:17.930910",
     "exception": false,
     "start_time": "2020-11-04T03:20:17.897815",
     "status": "completed"
    },
    "tags": []
   },
   "source": [
    "<img src=\"images/col%20by%20row%20comparison.png?raw=true\"  width=\"300\" height=\"300\">"
   ]
  },
  {
   "cell_type": "markdown",
   "metadata": {
    "papermill": {
     "duration": 0.033266,
     "end_time": "2020-11-04T03:20:18.000776",
     "exception": false,
     "start_time": "2020-11-04T03:20:17.967510",
     "status": "completed"
    },
    "tags": []
   },
   "source": [
    "The question you must be asking is, \"how do we do that?\" Simple. The answer is that we turn the first row into the first column, and the second row into the second column, etc. That changing columns into rows and vice versa is called transpose, hence the \"T\" in \".T\".\n",
    "\n",
    "Which matrix do we transpose? If we do the one on the left, then we change it from [1 x 3] to [3 x 1]. That doesn't really help us, because the amount of columns of the matrix on the left still doesn't match up with the amount of rows of the matrix on the right. If we transpose the matrix on the right, we go from [2 x 3] to [3 x 2]. That works perfectly! Our amount of columns of the matrix on the left is now equal to the amount of rows of the matrix on the right, and now, we can perform our equation, without the errors.\n",
    "\n",
    "Let's run our equation again, now that we just covered matrix multiplication for multiple features."
   ]
  },
  {
   "cell_type": "code",
   "execution_count": 9,
   "metadata": {
    "execution": {
     "iopub.execute_input": "2020-11-04T03:20:18.075312Z",
     "iopub.status.busy": "2020-11-04T03:20:18.074307Z",
     "iopub.status.idle": "2020-11-04T03:20:18.079038Z",
     "shell.execute_reply": "2020-11-04T03:20:18.078448Z"
    },
    "papermill": {
     "duration": 0.044399,
     "end_time": "2020-11-04T03:20:18.079162",
     "exception": false,
     "start_time": "2020-11-04T03:20:18.034763",
     "status": "completed"
    },
    "tags": []
   },
   "outputs": [
    {
     "data": {
      "text/plain": [
       "tensor([70, 47])"
      ]
     },
     "execution_count": 9,
     "metadata": {},
     "output_type": "execute_result"
    }
   ],
   "source": [
    "weights_E@X_E.T"
   ]
  },
  {
   "cell_type": "markdown",
   "metadata": {
    "papermill": {
     "duration": 0.034604,
     "end_time": "2020-11-04T03:20:18.147890",
     "exception": false,
     "start_time": "2020-11-04T03:20:18.113286",
     "status": "completed"
    },
    "tags": []
   },
   "source": [
    "## 4.3 Vectorization\n",
    "\n",
    "Before we apply logistic regression to our dataset, we're finally going to go over why I keep adding \"1\" to all of our graphs. We haven't added any 1s to any of our datasets, so why do I keep putting it there in our graphs? Before I explain, let's quickly go back to our equation of a line and some simple rules of multiplication.\n",
    "\n",
    "Our equation of a line was defined as y = slope * X + bias, right? Makes sense so far. Now, what if I showed you the following equation, <br>\n",
    "y = slope * X + bias * 1 . It's mathematically the same, because anything multiplied by 1 is itself. If it's the same, then why do I add a 1 to it? It seems better to just take the simpler equation.\n",
    "\n",
    "Let's go over some code to make better sense of this."
   ]
  },
  {
   "cell_type": "code",
   "execution_count": 10,
   "metadata": {
    "execution": {
     "iopub.execute_input": "2020-11-04T03:20:18.222498Z",
     "iopub.status.busy": "2020-11-04T03:20:18.221690Z",
     "iopub.status.idle": "2020-11-04T03:20:18.224672Z",
     "shell.execute_reply": "2020-11-04T03:20:18.225263Z"
    },
    "papermill": {
     "duration": 0.042881,
     "end_time": "2020-11-04T03:20:18.225423",
     "exception": false,
     "start_time": "2020-11-04T03:20:18.182542",
     "status": "completed"
    },
    "tags": []
   },
   "outputs": [],
   "source": [
    "bias_E = torch.tensor([5])"
   ]
  },
  {
   "cell_type": "markdown",
   "metadata": {
    "papermill": {
     "duration": 0.034029,
     "end_time": "2020-11-04T03:20:18.294077",
     "exception": false,
     "start_time": "2020-11-04T03:20:18.260048",
     "status": "completed"
    },
    "tags": []
   },
   "source": [
    "I just made a rank 1 tensor by the name of bias_E. It contains only 1 number within it. Let's print out our linear equation below (with and without the 1)."
   ]
  },
  {
   "cell_type": "code",
   "execution_count": 11,
   "metadata": {
    "execution": {
     "iopub.execute_input": "2020-11-04T03:20:18.370849Z",
     "iopub.status.busy": "2020-11-04T03:20:18.369851Z",
     "iopub.status.idle": "2020-11-04T03:20:18.375868Z",
     "shell.execute_reply": "2020-11-04T03:20:18.375017Z"
    },
    "papermill": {
     "duration": 0.046789,
     "end_time": "2020-11-04T03:20:18.376026",
     "exception": false,
     "start_time": "2020-11-04T03:20:18.329237",
     "status": "completed"
    },
    "tags": []
   },
   "outputs": [
    {
     "name": "stdout",
     "output_type": "stream",
     "text": [
      "tensor([75, 52])\n",
      "tensor([75, 52])\n"
     ]
    }
   ],
   "source": [
    "print(weights_E@X_E.T + bias_E)\n",
    "print(weights_E@X_E.T + bias_E*1)"
   ]
  },
  {
   "cell_type": "markdown",
   "metadata": {
    "papermill": {
     "duration": 0.0351,
     "end_time": "2020-11-04T03:20:18.446937",
     "exception": false,
     "start_time": "2020-11-04T03:20:18.411837",
     "status": "completed"
    },
    "tags": []
   },
   "source": [
    "No surprise there. It's the exact same result when multiplying with and without the 1.\n",
    "\n",
    "Now, we're going to do something a little different. We're going to create 2 new variables using the variables we already have. The tensor bias_E is concatenated to weights_E and a tensor of 1s is concatenated to the tensor X_E. Let's take a look."
   ]
  },
  {
   "cell_type": "code",
   "execution_count": 12,
   "metadata": {
    "execution": {
     "iopub.execute_input": "2020-11-04T03:20:18.525564Z",
     "iopub.status.busy": "2020-11-04T03:20:18.524804Z",
     "iopub.status.idle": "2020-11-04T03:20:18.537005Z",
     "shell.execute_reply": "2020-11-04T03:20:18.538105Z"
    },
    "papermill": {
     "duration": 0.056404,
     "end_time": "2020-11-04T03:20:18.538333",
     "exception": false,
     "start_time": "2020-11-04T03:20:18.481929",
     "status": "completed"
    },
    "tags": []
   },
   "outputs": [
    {
     "name": "stdout",
     "output_type": "stream",
     "text": [
      "weights_E_new:\n",
      "tensor([2, 3, 4, 5])\n",
      "\n",
      "X_E_new:\n",
      "tensor([[9, 8, 7, 1],\n",
      "        [4, 5, 6, 1]])\n"
     ]
    }
   ],
   "source": [
    "weights_E_new = torch.cat((weights_E, bias_E), dim=0)\n",
    "X_E_new = torch.cat((X_E, torch.ones(2, 1, dtype=int)), dim=1)\n",
    "\n",
    "print('weights_E_new:')\n",
    "print(weights_E_new)\n",
    "print()\n",
    "print('X_E_new:')\n",
    "print(X_E_new)"
   ]
  },
  {
   "cell_type": "markdown",
   "metadata": {
    "papermill": {
     "duration": 0.035099,
     "end_time": "2020-11-04T03:20:18.610270",
     "exception": false,
     "start_time": "2020-11-04T03:20:18.575171",
     "status": "completed"
    },
    "tags": []
   },
   "source": [
    "There's nothing extraordinary done to those variables, but this is where the magic of math happens."
   ]
  },
  {
   "cell_type": "code",
   "execution_count": 13,
   "metadata": {
    "execution": {
     "iopub.execute_input": "2020-11-04T03:20:18.687201Z",
     "iopub.status.busy": "2020-11-04T03:20:18.686164Z",
     "iopub.status.idle": "2020-11-04T03:20:18.690976Z",
     "shell.execute_reply": "2020-11-04T03:20:18.690129Z"
    },
    "papermill": {
     "duration": 0.045274,
     "end_time": "2020-11-04T03:20:18.691116",
     "exception": false,
     "start_time": "2020-11-04T03:20:18.645842",
     "status": "completed"
    },
    "tags": []
   },
   "outputs": [
    {
     "name": "stdout",
     "output_type": "stream",
     "text": [
      "tensor([75, 52])\n",
      "tensor([75, 52])\n"
     ]
    }
   ],
   "source": [
    "print(weights_E@X_E.T + bias_E*1)\n",
    "print(weights_E_new@X_E_new.T)"
   ]
  },
  {
   "cell_type": "markdown",
   "metadata": {
    "papermill": {
     "duration": 0.035974,
     "end_time": "2020-11-04T03:20:18.763017",
     "exception": false,
     "start_time": "2020-11-04T03:20:18.727043",
     "status": "completed"
    },
    "tags": []
   },
   "source": [
    "We were able to get the same result, but without adding the bias. How? Let me show you in math...\n",
    "\n",
    "Our equations are the following (with the bias):<br>\n",
    "Row 1:<br>\n",
    "2(9) + 3(8) + 4(7) + 5(1)<br>\n",
    "<br>\n",
    "Row 2:<br>\n",
    "2(4) + 3(5) + 4(6) + 5(1)<br>\n",
    "\n",
    "When you look at it like that, the bias just looks like it can be part of the weights tensor, and the 1, which is multiplied in each equation, looks like they can be added to the X tensor. That's exactly what the concatenation did. That's the magic of math! "
   ]
  },
  {
   "cell_type": "markdown",
   "metadata": {
    "papermill": {
     "duration": 0.036153,
     "end_time": "2020-11-04T03:20:18.835414",
     "exception": false,
     "start_time": "2020-11-04T03:20:18.799261",
     "status": "completed"
    },
    "tags": []
   },
   "source": [
    "## 4.4 Predicting with Logistic Regression\n",
    "\n",
    "Just before we run logistic regression, let's split our dataset into 2 parts. 1 part holding the features and the other holding the target. Thereafter, we'll turn those into tensors."
   ]
  },
  {
   "cell_type": "code",
   "execution_count": 14,
   "metadata": {
    "execution": {
     "iopub.execute_input": "2020-11-04T03:20:18.923936Z",
     "iopub.status.busy": "2020-11-04T03:20:18.923033Z",
     "iopub.status.idle": "2020-11-04T03:20:18.926686Z",
     "shell.execute_reply": "2020-11-04T03:20:18.927360Z"
    },
    "papermill": {
     "duration": 0.055218,
     "end_time": "2020-11-04T03:20:18.927515",
     "exception": false,
     "start_time": "2020-11-04T03:20:18.872297",
     "status": "completed"
    },
    "tags": []
   },
   "outputs": [],
   "source": [
    "X = df[df.columns[:-1]]\n",
    "y = df['Outcome']\n",
    "\n",
    "X = torch.tensor(X.values)\n",
    "y = torch.tensor(y.values)\n",
    "\n",
    "X = torch.cat((X, torch.ones(X.shape[0], dtype=float).reshape(-1,1)), dim=1)"
   ]
  },
  {
   "cell_type": "markdown",
   "metadata": {
    "papermill": {
     "duration": 0.040803,
     "end_time": "2020-11-04T03:20:19.010368",
     "exception": false,
     "start_time": "2020-11-04T03:20:18.969565",
     "status": "completed"
    },
    "tags": []
   },
   "source": [
    "Going over the code, X = df[df.columns[:-1]] takes all the columns of the dataset, except for the last column (i.e. Outcome) and assigns it to X, while y = df['Outcome'] only takes the Outcome column and assigns it to y.\n",
    "\n",
    "The torch.ones function is being used exactly the same way, except this time, we're adding a 1 for every row that exists in X (X.shape[0] returns the amount of rows present in X). Don't worry about the reshape for now. We'll return to it at the end of this chapter.\n",
    "\n",
    "Finally, time for logistic regression. Let's stop writing words and start writing code. Time to see logistic regression in  action!"
   ]
  },
  {
   "cell_type": "code",
   "execution_count": 15,
   "metadata": {
    "execution": {
     "iopub.execute_input": "2020-11-04T03:20:19.110899Z",
     "iopub.status.busy": "2020-11-04T03:20:19.110051Z",
     "iopub.status.idle": "2020-11-04T03:20:24.184962Z",
     "shell.execute_reply": "2020-11-04T03:20:24.184091Z"
    },
    "papermill": {
     "duration": 5.133168,
     "end_time": "2020-11-04T03:20:24.185109",
     "exception": false,
     "start_time": "2020-11-04T03:20:19.051941",
     "status": "completed"
    },
    "tags": []
   },
   "outputs": [
    {
     "name": "stdout",
     "output_type": "stream",
     "text": [
      "epoch: 0 - loss: 0.69315; acc: 0.349\n",
      "epoch: 1000 - loss: 0.61885; acc: 0.676\n",
      "epoch: 2000 - loss: 0.61605; acc: 0.685\n",
      "epoch: 3000 - loss: 0.61403; acc: 0.686\n",
      "epoch: 4000 - loss: 0.61253; acc: 0.689\n",
      "epoch: 5000 - loss: 0.61142; acc: 0.694\n",
      "epoch: 6000 - loss: 0.61057; acc: 0.699\n",
      "epoch: 7000 - loss: 0.60992; acc: 0.702\n",
      "epoch: 8000 - loss: 0.60942; acc: 0.702\n"
     ]
    }
   ],
   "source": [
    "def log_loss(y, y_pred): ##log loss error (binary cross entropy)\n",
    "  return -torch.sum((y*torch.log(y_pred) + (1-y)*torch.log(1-y_pred)))/y.shape[0]\n",
    "\n",
    "def sigmoid(linear):\n",
    "    return 1/(1+torch.exp(-linear))\n",
    "\n",
    "epoch_loss = []\n",
    "\n",
    "weights = torch.zeros(9, dtype=float, requires_grad=True)\n",
    "learning_rate = 1e-4\n",
    "n = X.shape[0]\n",
    "\n",
    "for epoch in range(8000+1): \n",
    "    linear = weights.reshape(1,-1)@X.T ##one equation for all\n",
    "    y_pred =  sigmoid(linear) ##logistic\n",
    "    loss = log_loss(y, y_pred)\n",
    "    epoch_loss.append(loss.item())\n",
    "\n",
    "    ###backpropagation###\n",
    "    loss.backward()\n",
    "\n",
    "    ###step###\n",
    "    with torch.no_grad():\n",
    "        weights -= learning_rate * weights.grad\n",
    "\n",
    "    weights.grad.zero_()\n",
    "\n",
    "    if(epoch % 1000 == 0):\n",
    "        acc = torch.sum(((y_pred>=0.5)+0 == y)+0).item()/y.shape[0]\n",
    "        print('epoch: {0} - loss: {1:.5f}; acc: {2:.3f}'.format(epoch, epoch_loss[-1], acc))"
   ]
  },
  {
   "cell_type": "markdown",
   "metadata": {
    "papermill": {
     "duration": 0.040057,
     "end_time": "2020-11-04T03:20:24.268013",
     "exception": false,
     "start_time": "2020-11-04T03:20:24.227956",
     "status": "completed"
    },
    "tags": []
   },
   "source": [
    "Awesome! We did it! One of the things you probably realized is that we're no longer using graphs, rather, we're printing out our loss. We even threw in the accuracy. Accuracy isn't our loss function, but it's a good metric. The reason for using accuracy is because looking at just the BCE isn't really that interpretable.\n",
    "\n",
    "Looking at the print lines, we see that we achieved 70% accuracy on our dataset. The kind of results we achieved is probably not good enough to save lives, so maybe it's not something to throw into production, but considering we did absolutely nothing to our data and we have absolutely no medical understanding of diabetes, we seem to be able to get our machine learning model to be able to somewhat have an understanding of how the data works. That's super powerful when you think about it. Let's go over some of the code, because you probably realized a few differences from the last chapter.\n",
    "\n",
    "Going from the top, the first thing you immediately see is that I made a sigmoid function. It's so the code is more readable. The other part that stands out is weights.reshape(1,-1). That reshape function turns our weights tensor from a tensor of rank 1, to a tensor of rank 2. That step is mandatory in order to do the matrix multiplication with our X tensor (i.e. the actual data). The 1 provided to the reshape function tells it how many rows we want it to have and the -1 tells the function to automatically choose as many columns required to be able to reshape the tensor to only have 1 row (i.e. 9 columns in our case). In essence, for our case, weights.reshape(1,-1) is exactly the same as weights.reshape(1,9). Check the shape out and see for yourself. The reshape function is very important, so make sure you play with it to get a feel of it.\n",
    "\n",
    "We'll end this chapter with a graph. As we did in the previous chapters, let's look how our loss has changed throughout the epochs."
   ]
  },
  {
   "cell_type": "code",
   "execution_count": 16,
   "metadata": {
    "execution": {
     "iopub.execute_input": "2020-11-04T03:20:24.353459Z",
     "iopub.status.busy": "2020-11-04T03:20:24.352591Z",
     "iopub.status.idle": "2020-11-04T03:20:24.530407Z",
     "shell.execute_reply": "2020-11-04T03:20:24.531149Z"
    },
    "papermill": {
     "duration": 0.223687,
     "end_time": "2020-11-04T03:20:24.531306",
     "exception": false,
     "start_time": "2020-11-04T03:20:24.307619",
     "status": "completed"
    },
    "tags": []
   },
   "outputs": [
    {
     "data": {
      "text/plain": [
       "[<matplotlib.lines.Line2D at 0x7f4aa04cac10>]"
      ]
     },
     "execution_count": 16,
     "metadata": {},
     "output_type": "execute_result"
    },
    {
     "data": {
      "image/png": "[encoded data removed]",
      "text/plain": [
       "<Figure size 432x288 with 1 Axes>"
      ]
     },
     "metadata": {
      "needs_background": "light"
     },
     "output_type": "display_data"
    }
   ],
   "source": [
    "plt.plot(epoch_loss)"
   ]
  }
 ],
 "metadata": {
  "kernelspec": {
   "display_name": "Python 3",
   "language": "python",
   "name": "python3"
  },
  "language_info": {
   "codemirror_mode": {
    "name": "ipython",
    "version": 3
   },
   "file_extension": ".py",
   "mimetype": "text/x-python",
   "name": "python",
   "nbconvert_exporter": "python",
   "pygments_lexer": "ipython3",
   "version": "3.7.1"
  },
  "papermill": {
   "duration": 14.247743,
   "end_time": "2020-11-04T03:20:24.681033",
   "environment_variables": {},
   "exception": null,
   "input_path": "__notebook__.ipynb",
   "output_path": "__notebook__.ipynb",
   "parameters": {},
   "start_time": "2020-11-04T03:20:10.433290",
   "version": "2.1.0"
  }
 },
 "nbformat": 4,
 "nbformat_minor": 4
}
