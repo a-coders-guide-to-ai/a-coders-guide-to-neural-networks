{
 "cells": [
  {
   "cell_type": "markdown",
   "metadata": {},
   "source": [
    "# Logistic Regression\n",
    "-------\n",
    "\n",
    "In the last chapter, we covered linear regression. We saw that linear regression was synonymous to best fit lines, which are taught in high school. We also saw that it was well-suited for continuous data (i.e., values which can be any value between negative infinity and infinity, even decimal numbers), which follow a straight line.\n",
    "\n",
    "In this chapter, we'll cover logistic regression. Unlike linear regression, logistic regression isn't well-suited for continuous values. Rather, its purpose is for categorical data. In this chapter, we'll be focusing on binary data. Binary means that the data can only have 2 values (e.g., 0 and 1 or a and b).\n",
    "\n",
    "Instead of reading about it, let's see it in action. Let's import the same libraries that we did in the last chapter. These libraries have the same purpose as they did in chapter 1."
   ]
  },
  {
   "cell_type": "code",
   "execution_count": 1,
   "metadata": {
    "_cell_guid": "b1076dfc-b9ad-4769-8c92-a6c4dae69d19",
    "_uuid": "8f2839f25d086af736a60e9eeb907d3b93b6e0e5"
   },
   "outputs": [],
   "source": [
    "import numpy as np\n",
    "import matplotlib.pyplot as plt\n",
    "from IPython import display\n",
    "import time"
   ]
  },
  {
   "cell_type": "markdown",
   "metadata": {},
   "source": [
    "We're making some mock data again in this chapter. This time we’ll make 30 points. 15 of them have the y value of 1 and 15 of them have the y value of 0."
   ]
  },
  {
   "cell_type": "code",
   "execution_count": 2,
   "metadata": {},
   "outputs": [],
   "source": [
    "X = np.concatenate((np.arange(15, dtype=float), np.arange(20, 35, dtype=float)), axis=0)\n",
    "y = np.concatenate((np.zeros(15, dtype=float), np.ones(15, dtype=float)), axis=0)"
   ]
  },
  {
   "cell_type": "markdown",
   "metadata": {},
   "source": [
    "Let's plot them and see how they look."
   ]
  },
  {
   "cell_type": "code",
   "execution_count": 3,
   "metadata": {},
   "outputs": [
    {
     "data": {
      "text/plain": [
       "<matplotlib.collections.PathCollection at 0x26e28108400>"
      ]
     },
     "execution_count": 3,
     "metadata": {},
     "output_type": "execute_result"
    },
    {
     "data": {
      "image/png": "[encoded data removed]",
      "text/plain": [
       "<Figure size 432x288 with 1 Axes>"
      ]
     },
     "metadata": {
      "needs_background": "light"
     },
     "output_type": "display_data"
    }
   ],
   "source": [
    "plt.scatter(X, y)"
   ]
  },
  {
   "cell_type": "markdown",
   "metadata": {},
   "source": [
    "Just like the last chapter, we started by making mock data. Our dataset currently consists of 30 data points. The main difference between this dataset and last chapter’s dataset is that, unlike last chapter, this dataset only contains binary data (i.e., only 2 y-values: 0 and 1). Now, before we continue, the question I want to answer is, why can't we just fit our linear regression to binary data? Let's try fitting it and see what happens!\n",
    "\n",
    "The code below was copied over from chapter 1."
   ]
  },
  {
   "cell_type": "markdown",
   "metadata": {},
   "source": [
    "## 1.1. Applying Linear Regression to Binary Data"
   ]
  },
  {
   "cell_type": "code",
   "execution_count": 4,
   "metadata": {},
   "outputs": [],
   "source": [
    "def mse(y, y_pred): ##mean squared error\n",
    "    return np.sum((y - y_pred)**2)/y.shape[0]"
   ]
  },
  {
   "cell_type": "code",
   "execution_count": 7,
   "metadata": {},
   "outputs": [
    {
     "data": {
      "text/plain": [
       "<Figure size 432x288 with 0 Axes>"
      ]
     },
     "metadata": {},
     "output_type": "display_data"
    },
    {
     "data": {
      "image/png": "[encoded data removed]",
      "text/plain": [
       "<Figure size 432x288 with 2 Axes>"
      ]
     },
     "metadata": {
      "needs_background": "light"
     },
     "output_type": "display_data"
    }
   ],
   "source": [
    "epoch_loss = []\n",
    "\n",
    "slope = 0.\n",
    "bias = 0.\n",
    "learning_rate = 1e-4\n",
    "n = X.shape[0]\n",
    "\n",
    "for epoch in range(10): \n",
    "    y_pred = slope*X + bias\n",
    "    loss = mse(y, y_pred)\n",
    "    epoch_loss.append(loss)\n",
    "\n",
    "    if(epoch%2==0):\n",
    "        ######demo purpose only#####\n",
    "        display.display(plt.gcf())\n",
    "        display.clear_output(wait=True)\n",
    "        ##########plotting##########\n",
    "        fig, (ax0, ax1) = plt.subplots(ncols=2, constrained_layout=True)\n",
    "        fig.suptitle('epoch = {0}'.format(epoch))\n",
    "        ax0.scatter(X, y)\n",
    "        ax0.plot(X, y_pred, 'r')\n",
    "        ax0.set_title('slope = {0:.1f}, bias = {1:.1f}'.format(slope, bias))\n",
    "        ax1.set_title('mse = {0:.2f}'.format(loss))\n",
    "        ax1.plot(epoch_loss)\n",
    "        plt.show()\n",
    "        time.sleep(1)\n",
    "        ############################\n",
    "\n",
    "    ###slope and bias derivatives with respect to mse###\n",
    "    D_mse_wrt_slope = np.sum(X * (y - y_pred)) \n",
    "    D_mse_wrt_bias = np.sum(y - y_pred) \n",
    "\n",
    "\n",
    "    slope += learning_rate * D_mse_wrt_slope\n",
    "    bias += learning_rate * D_mse_wrt_bias"
   ]
  },
  {
   "cell_type": "markdown",
   "metadata": {},
   "source": [
    "In all honesty, the results given by linear regression, in this case, aren't bad. I mean, clearly, a straight line isn't the right shape to fit the data, but if we keep a threshold/cut-off at 0.6, then it could work. In the sense that, anything greater than or equal to 0.6 gets rounded to 1 and anything less than 0.6 gets rounded to 0. In that case, it would give us perfect results. Our MSE also seems not to be the right loss function, but it works for this case.\n",
    "\n",
    "Now, the question is, if linear regression is so good, why don't we just accommodate it, with a threshold, so that it works for our binary data? Continue below to see why that may not be a good idea."
   ]
  },
  {
   "cell_type": "markdown",
   "metadata": {},
   "source": [
    "## 1.2 The Problem with Linear Regression\n",
    "\n",
    "Before we can see the problem with linear regression on binary data, I'm going to add 1 extra point for our dataset. This point has the y value of 1, but the x value is a lot farther than the rest of the points. Let's take a look."
   ]
  },
  {
   "cell_type": "code",
   "execution_count": 8,
   "metadata": {},
   "outputs": [],
   "source": [
    "X = np.concatenate((X, np.array([60])))\n",
    "y = np.concatenate((y, np.array([1])))"
   ]
  },
  {
   "cell_type": "markdown",
   "metadata": {},
   "source": [
    "Let's plot them and see how they look."
   ]
  },
  {
   "cell_type": "code",
   "execution_count": 9,
   "metadata": {},
   "outputs": [
    {
     "data": {
      "text/plain": [
       "<matplotlib.collections.PathCollection at 0x26e298070b8>"
      ]
     },
     "execution_count": 9,
     "metadata": {},
     "output_type": "execute_result"
    },
    {
     "data": {
      "image/png": "[encoded data removed]",
      "text/plain": [
       "<Figure size 432x288 with 1 Axes>"
      ]
     },
     "metadata": {
      "needs_background": "light"
     },
     "output_type": "display_data"
    }
   ],
   "source": [
    "plt.scatter(X, y)"
   ]
  },
  {
   "cell_type": "markdown",
   "metadata": {},
   "source": [
    "If you look at the graph above, you'll see that the data is more or less the same, except that there's 1 point which is very far from the rest of the points. Let's see how this effects linear regression."
   ]
  },
  {
   "cell_type": "code",
   "execution_count": 10,
   "metadata": {},
   "outputs": [
    {
     "data": {
      "text/plain": [
       "<Figure size 432x288 with 0 Axes>"
      ]
     },
     "metadata": {},
     "output_type": "display_data"
    },
    {
     "data": {
      "image/png": "[encoded data removed]",
      "text/plain": [
       "<Figure size 432x288 with 2 Axes>"
      ]
     },
     "metadata": {
      "needs_background": "light"
     },
     "output_type": "display_data"
    }
   ],
   "source": [
    "epoch_loss = []\n",
    "\n",
    "slope = 0.\n",
    "bias = 0.\n",
    "learning_rate = 1e-4\n",
    "n = X.shape[0]\n",
    "\n",
    "for epoch in range(14):\n",
    "    y_pred = slope*X + bias\n",
    "    loss = mse(y, y_pred)\n",
    "    epoch_loss.append(loss)\n",
    "\n",
    "    if(epoch%2==0):\n",
    "        ######demo purpose only#####\n",
    "        display.display(plt.gcf())\n",
    "        display.clear_output(wait=True)\n",
    "        ##########plotting##########\n",
    "        fig, (ax0, ax1) = plt.subplots(ncols=2, constrained_layout=True)\n",
    "        fig.suptitle('epoch = {0}'.format(epoch))\n",
    "        ax0.scatter(X, y)\n",
    "        ax0.plot(X, y_pred, 'r')\n",
    "        ax0.set_title('slope = {0:.1f}, bias = {1:.1f}'.format(slope, bias))\n",
    "        ax1.set_title('mse = {0:.2f}'.format(loss))\n",
    "        ax1.plot(epoch_loss)\n",
    "        plt.show()\n",
    "        time.sleep(1)\n",
    "        ############################\n",
    "\n",
    "\n",
    "    ###slope and bias derivatives with respect to mse###\n",
    "    D_mse_wrt_slope = np.sum(X * (y - y_pred))\n",
    "    D_mse_wrt_bias = np.sum(y - y_pred)\n",
    "\n",
    "    slope += learning_rate * D_mse_wrt_slope\n",
    "    bias += learning_rate * D_mse_wrt_bias"
   ]
  },
  {
   "cell_type": "markdown",
   "metadata": {},
   "source": [
    "The way 1 point on the graph had so much effect on the line is very interesting. All of a sudden, the line completely changed its slope. You could change the threshold to 0.5, but you can see that plotting a linear regression line isn't the sturdiest solution to our binary data problem."
   ]
  },
  {
   "cell_type": "markdown",
   "metadata": {},
   "source": [
    "## 1.3 The Sigmoid Function\n",
    "\n",
    "Now that we established that linear regression isn't really what we're looking for, you're probably thinking \"what if we could just fit an 'S' shape?\" The good news is, we actually can just plot an S-shape line. The line you're thinking about is known as a sigmoid function. It's also known as the logistic function, hence the name logistic regression.\n",
    "\n",
    "Let's take a look at it..."
   ]
  },
  {
   "cell_type": "code",
   "execution_count": 11,
   "metadata": {},
   "outputs": [
    {
     "data": {
      "image/png": "[encoded data removed]",
      "text/plain": [
       "<Figure size 432x288 with 1 Axes>"
      ]
     },
     "metadata": {
      "needs_background": "light"
     },
     "output_type": "display_data"
    }
   ],
   "source": [
    "temp_X = np.arange(-20, 20, dtype=float)\n",
    "slope, bias = 1, 0\n",
    "linear_eqn = slope*temp_X+bias\n",
    "sigmoid_eqn = 1/(1+np.exp(-linear_eqn))\n",
    "plt.plot(temp_X, sigmoid_eqn)\n",
    "plt.show()"
   ]
  },
  {
   "cell_type": "markdown",
   "metadata": {},
   "source": [
    "This is exactly what we're looking for! With the sigmoid function, we can always conclude that values greater than or equal to 0.5 are 1 and values less than 0.5 are 0.\n",
    "\n",
    "What's more interesting is that if you look at lines 3 and 4 of the code cell (i.e., the equations which make up the sigmoid function), you'll see that it's using the equation of a line from linear regression, but just adding a little bit to it. Let's dissect the code a bit.\n",
    "\n",
    "The first line of the code is nothing we haven't seen before – it's just me making dummy x values. These values are from -10 to 10. The second line is where things get interesting – I'm defining a slope and a bias. The third line, I have an equation which looks exactly like my linear regression equation. That's because it is the exact same equation. The last line, before I plot the graph, is where the magic happens. I'm taking the linear regression equation and using it in my sigmoid equation. That's powerful. The 1 in the numerator and the 1 in the denominator are constants (i.e., values that don't change). This means that, just like the linear regression equation, all the influence for the sigmoid function lies in the slope and the bias values.\n",
    "\n",
    "Before you continue, go back to the code cell above and change the slope and the bias values to see how they affect the sigmoid function. Try values 5 and 0.5 for the slope and 3 and -3 for the bias. Something you'll notice is that the top of the S always tapers off at 1 and the bottom of it always tapers off at 0. This tapering off is also known as an asymptote. There are asymptotes at 1 and 0. This essentially means that the line will never touch 1 nor 0. It gets infinitely close, but never touches. You can see why it's the perfect equation to fit binary data."
   ]
  },
  {
   "cell_type": "markdown",
   "metadata": {},
   "source": [
    "## 1.4 Logistic Regression's Loss Function\n",
    "\n",
    "Now, how do we automate this? Maybe we should recap the steps for the automation of linear regression, in case you forgot.\n",
    "\n",
    "For each epoch, we would:\n",
    "1. Calculate the linear regression equation, using the x values to get predicted y values\n",
    "2. Take the predicted y values and compare them with the actual y values, using the loss function MSE\n",
    "3. Calculate the derivatives of the slope and bias, with respect to the MSE\n",
    "4. Update the slope and the bias values in order to reach the lowest MSE values\n",
    "\n",
    "We can condense the wording for those steps as:\n",
    "1. Forward propagation\n",
    "2. Calculate loss\n",
    "3. Backpropagation\n",
    "4. Update weights\n",
    "\n",
    "Looking at those steps, we figured out the forward propagation for logistic regression. Let's calculate the loss. We could use MSE, like we did in linear regression, but that calculates the residuals (i.e., the distance between our best fit line and the actual points). That won't make sense for logistic regression's case. For logistic regression, we don't care how far the point is from the line, because it can't really be that far (considering every point is either a 0 or a 1). What we do care about is how many points on the graph are correctly classified.\n",
    "\n",
    "I'm going to give you the loss function, which is also known as log loss or binary cross entropy (BCE), and then we'll step through the equation."
   ]
  },
  {
   "cell_type": "code",
   "execution_count": 12,
   "metadata": {},
   "outputs": [],
   "source": [
    "def BCE(y, y_pred): ##log loss error (binary cross entropy)\n",
    "    return -np.sum((y*np.log(y_pred) + (1-y)*np.log(1-y_pred)))/y.shape[0]"
   ]
  },
  {
   "cell_type": "markdown",
   "metadata": {},
   "source": [
    "Now that we've seen the equation, let's clean it up a bit, so that it's easier to read. \n",
    "\n",
    "[-y * np.log(y_pred)] - [(1-y) * np.log(1-y_pred))]\n",
    "\n",
    "You can see that I got rid of the denominator and the summation. We can return back to those in a bit. Before that though, let's look at the equation without those. You'll see that the equation now has two parts to it.<br/>\n",
    "Part 1 of the equation is:<br/>\n",
    "[-y * np.log(y_pred)]<br/>\n",
    "And part 2 of the equation is:<br/>\n",
    "[(1-y) * np.log(1-y_pred))]<br/>\n",
    "Let's try putting in some values for y and y_pred and see what the equation returns.\n",
    "\n",
    "Before we begin, remember, y_pred is the value which is outputted by our sigmoid function. It can be any decimal number between 0 and 1, but it well never exactly be 0 or 1.\n",
    "\n",
    "Let's start with if y is 0 (which means that we should be predicting 0), we'll get the following:<br/>\n",
    "[-0 * np.log(y_pred)] - [(1-0) * np.log(1-y_pred))]<br/>\n",
    "which simplifies to:<br/>\n",
    "-np.log(1-y_pred)\n",
    "\n",
    "Now, if we set y to 1 (which means that we should be predicting 1), we'll get the following:<br/>\n",
    "[-1 * np.log(y_pred)] - [(1-1) * np.log(1-y_pred))]<br/>\n",
    "which simplifies to:<br/>\n",
    "-np.log(y_pred)\n",
    "\n",
    "That's interesting. You can see that at any given time, only 1 part of the equation will actually be worth something greater than 0. \n",
    "\n",
    "Why is there conveniently always a negative in front? Remember, our values are going to be decimal values between 0 and 1. The log of those values will always give you a negative number. To turn those negatives into positives, we put another negative in front.\n",
    "\n",
    "That's cool, but why the log? It's because the log (when you place a negative in front) will penalize larger values by making them worth less and it will reward very low values, by making them worth more. Remember, the value inside the log function should be as close to 0 as possible. The closer it is to 0, the better. The cells below should explain what I mean by rewarding low values and penalizing high values..."
   ]
  },
  {
   "cell_type": "code",
   "execution_count": 13,
   "metadata": {},
   "outputs": [
    {
     "data": {
      "text/plain": [
       "9.210340371976182"
      ]
     },
     "execution_count": 13,
     "metadata": {},
     "output_type": "execute_result"
    }
   ],
   "source": [
    "-np.log(0.0001)"
   ]
  },
  {
   "cell_type": "code",
   "execution_count": 14,
   "metadata": {},
   "outputs": [
    {
     "data": {
      "text/plain": [
       "2.3025850929940455"
      ]
     },
     "execution_count": 14,
     "metadata": {},
     "output_type": "execute_result"
    }
   ],
   "source": [
    "-np.log(0.1)"
   ]
  },
  {
   "cell_type": "code",
   "execution_count": 15,
   "metadata": {},
   "outputs": [
    {
     "data": {
      "text/plain": [
       "0.10536051565782628"
      ]
     },
     "execution_count": 15,
     "metadata": {},
     "output_type": "execute_result"
    }
   ],
   "source": [
    "-np.log(0.9)"
   ]
  },
  {
   "cell_type": "markdown",
   "metadata": {},
   "source": [
    "If you're still having some difficulty with the penalizing and rewarding done by the log function (when a negative is placed out front), maybe try more values between 0 and 1.\n",
    "\n",
    "Awesome! Now that we understand why the log is there and how it effects our values; we have 2 things outstanding, the summation and the denominator – both of which can be explained together.\n",
    "\n",
    "What our loss function (BCE) does is, it returns the average loss across all the points in our dataset. How do you calculate an average? By summing up all the values across all the points in the dataset and dividing by the number of points there are. Our np.sum sums all the values and y.shape[0] gives us the number of points in our dataset. Put them together and you get your average.\n",
    "\n",
    "Finally, we've gone through the explanation of binary cross entropy. Hope that made sense."
   ]
  },
  {
   "cell_type": "markdown",
   "metadata": {},
   "source": [
    "## 1.5 Logistic Regression's Backpropogation\n",
    "\n",
    "Now that we've gone over steps 1 and 2 of our algorithm to implement logistic regression with gradient descent, we're back at the calculus part. Just like last chapter, I won’t be going over the derivatives, but just provide you with the equations.\n",
    "\n",
    "The derivative of the BCE with respect to the slope is -[(-y/y_pred) + ((1-y)/(1-y_pred))]*[y_pred*(1-y_pred)]* X.<br>\n",
    "The derivative of the BCE with respect to the bias is -[(-y/y_pred) + ((1-y)/(1-y_pred))]*[y_pred*(1-y_pred)]."
   ]
  },
  {
   "cell_type": "markdown",
   "metadata": {},
   "source": [
    "## 1.6 Putting It All Together\n",
    "\n",
    "Now that we've figured out all of our steps, let's put it all together.\n",
    "\n",
    "Run the code below and check out how far we've gotten!"
   ]
  },
  {
   "cell_type": "code",
   "execution_count": 16,
   "metadata": {},
   "outputs": [
    {
     "data": {
      "text/plain": [
       "<Figure size 432x288 with 0 Axes>"
      ]
     },
     "metadata": {},
     "output_type": "display_data"
    },
    {
     "data": {
      "image/png": "[encoded data removed]",
      "text/plain": [
       "<Figure size 432x288 with 2 Axes>"
      ]
     },
     "metadata": {
      "needs_background": "light"
     },
     "output_type": "display_data"
    }
   ],
   "source": [
    "epoch_loss = []\n",
    "\n",
    "slope = 0.\n",
    "bias = 0.\n",
    "learning_rate = 1e-4\n",
    "n = X.shape[0]\n",
    "\n",
    "for epoch in range(600000+1):\n",
    "    linear = slope*X + bias\n",
    "    y_pred = 1/(1+np.exp(-linear)) ##logistic function\n",
    "    loss = BCE(y, y_pred)\n",
    "    epoch_loss.append(loss)\n",
    "\n",
    "\n",
    "    if(epoch%50000 == 0):\n",
    "        ######demo purpose only#####\n",
    "        display.display(plt.gcf())\n",
    "        display.clear_output(wait=True)\n",
    "        ##########plotting##########\n",
    "        fig, (ax0, ax1) = plt.subplots(ncols=2, constrained_layout=True)\n",
    "        fig.suptitle('epoch = {0}'.format(epoch))\n",
    "        ax0.scatter(X, y)\n",
    "        ax0.plot(X, y_pred, 'r')\n",
    "        ax0.set_title('slope = {0:.1f}, bias = {1:.1f}'.format(slope, bias))\n",
    "        ax1.set_title('bce = {0:.2f}'.format(loss))\n",
    "        ax1.plot(epoch_loss)\n",
    "        plt.show()\n",
    "        time.sleep(1)\n",
    "        ############################\n",
    "    \n",
    "    ###slope and bias derivatives with respect to loss###\n",
    "    dLoss_dLogistic = (-y/y_pred) + ((1-y)/(1-y_pred))\n",
    "    dLogistic_dLinear = y_pred*(1-y_pred)\n",
    "    dLinear_dSlope = X\n",
    "    ##computational graph\n",
    "    dLoss_dSlope = -np.sum(dLoss_dLogistic * dLogistic_dLinear * dLinear_dSlope) \n",
    "    dLoss_dBias = -np.sum(dLoss_dLogistic * dLogistic_dLinear)\n",
    "\n",
    "    slope += learning_rate * dLoss_dSlope\n",
    "    bias += learning_rate * dLoss_dBias"
   ]
  },
  {
   "cell_type": "markdown",
   "metadata": {},
   "source": [
    "There we have it. Logistic regression with gradient descent, in action!\n",
    "\n",
    "Before we wrap up this section, I'm going to go over a neat trick. The awesome part about logistic regression is that, if you simplify the calculus (something we won't be doing in this book), you'll see that you can use the exact same calculus and weight update equations which were used for linear regression.\n",
    "\n",
    "Take a look at the cell below. You'll see that we really simplified our backpropagation step. Truthfully, the code for backpropagation and updating the weights were just copied and pasted from chapter 1. Minus the sigmoid function, that makes our code for logistic regression essentially identical to our code for linear regression. Go back to the last code cell of chapter 1 and see for yourself."
   ]
  },
  {
   "cell_type": "code",
   "execution_count": 17,
   "metadata": {},
   "outputs": [
    {
     "data": {
      "text/plain": [
       "<Figure size 432x288 with 0 Axes>"
      ]
     },
     "metadata": {},
     "output_type": "display_data"
    },
    {
     "data": {
      "image/png": "[encoded data removed]",
      "text/plain": [
       "<Figure size 432x288 with 2 Axes>"
      ]
     },
     "metadata": {
      "needs_background": "light"
     },
     "output_type": "display_data"
    }
   ],
   "source": [
    "epoch_loss = []\n",
    "\n",
    "slope = 0.\n",
    "bias = 0.\n",
    "learning_rate = 1e-4\n",
    "n = X.shape[0]\n",
    "\n",
    "for epoch in range(600000+1):\n",
    "    linear = slope*X + bias\n",
    "    y_pred = 1/(1+np.exp(-linear)) ##logistic function\n",
    "    loss = BCE(y, y_pred)\n",
    "    epoch_loss.append(loss)\n",
    "\n",
    "\n",
    "    if(epoch%50000 == 0):\n",
    "        ######demo purpose only#####\n",
    "        display.display(plt.gcf())\n",
    "        display.clear_output(wait=True)\n",
    "        ##########plotting##########\n",
    "        fig, (ax0, ax1) = plt.subplots(ncols=2, constrained_layout=True)\n",
    "        fig.suptitle('epoch = {0}'.format(epoch))\n",
    "        ax0.scatter(X, y)\n",
    "        ax0.plot(X, y_pred, 'r')\n",
    "        ax0.set_title('slope = {0:.1f}, bias = {1:.1f}'.format(slope, bias))\n",
    "        ax1.set_title('bce = {0:.2f}'.format(loss))\n",
    "        ax1.plot(epoch_loss)\n",
    "        plt.show()\n",
    "        time.sleep(1)\n",
    "        ############################\n",
    "    \n",
    "    ###simplified slope and bias derivatives with respect to loss###  \n",
    "    D_bce_wrt_slope = np.sum(X * (y - y_pred))\n",
    "    D_bce_wrt_bias = np.sum(y - y_pred)\n",
    "    ###########\n",
    "\n",
    "    slope += learning_rate * D_bce_wrt_slope\n",
    "    bias += learning_rate * D_bce_wrt_bias"
   ]
  },
  {
   "cell_type": "markdown",
   "metadata": {},
   "source": [
    "## 1.7 Logistic Regression's Computation Graph\n",
    "\n",
    "Before we finish off this chapter, let's end with logistic regression's computation graph. It's a nice and simple diagram which sums up the steps to logistic regression using gradient descent. Just like last time, our process starts at the left and goes to the right and then returns in reverse, using the derivatives, to complete backpropagation."
   ]
  },
  {
   "attachments": {},
   "cell_type": "markdown",
   "metadata": {},
   "source": [
    "![logistic%20regression.png](images/logistic%20regression.png?raw=true)"
   ]
  }
 ],
 "metadata": {
  "kernelspec": {
   "display_name": "Python 3",
   "language": "python",
   "name": "python3"
  },
  "language_info": {
   "codemirror_mode": {
    "name": "ipython",
    "version": 3
   },
   "file_extension": ".py",
   "mimetype": "text/x-python",
   "name": "python",
   "nbconvert_exporter": "python",
   "pygments_lexer": "ipython3",
   "version": "3.7.1"
  }
 },
 "nbformat": 4,
 "nbformat_minor": 4
}
