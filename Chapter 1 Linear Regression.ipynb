{
 "cells": [
  {
   "cell_type": "markdown",
   "metadata": {
    "papermill": {
     "duration": 0.020523,
     "end_time": "2020-12-02T16:55:13.370849",
     "exception": false,
     "start_time": "2020-12-02T16:55:13.350326",
     "status": "completed"
    },
    "tags": []
   },
   "source": [
    "# Linear Regression\n",
    "----------------\n",
    "\n",
    "For our very first lesson, we'll go over something called linear regression. What is it exactly? Linear regression is just a fancy term for something which you probably somewhat already covered in high school. Do you remember best fit lines in high school math? It was you trying to estimate and draw a straight line through a bunch of points. These points were plotted on a graph and were arranged in a way which appeared that they were going in the same direction. I hope you're going \"oh yeah, I remember that!\" Because that's linear regression! Let's go through it with some code..."
   ]
  },
  {
   "cell_type": "markdown",
   "metadata": {
    "papermill": {
     "duration": 0.020202,
     "end_time": "2020-12-02T16:55:13.411547",
     "exception": false,
     "start_time": "2020-12-02T16:55:13.391345",
     "status": "completed"
    },
    "tags": []
   },
   "source": [
    "## 1.1 Making a Mock Dataset\n",
    "\n",
    "Before we start, let's import a couple libraries which we'll use to create our mock dataset. We'll use this mock dataset throughout this chapter to really deep dive into linear regression. We'll make our mock dataset using sklearn (short for scikit-learn) - a very widely used machine learning library in Python. We won't be covering it in this book, but it has a nice built-in function (specifically its \"make_regression\" function) for easily making mock datasets. As for matplotlib, it's an easy-to-use barebones data science library in Python to plot graphs."
   ]
  },
  {
   "cell_type": "code",
   "execution_count": 1,
   "metadata": {
    "_cell_guid": "b1076dfc-b9ad-4769-8c92-a6c4dae69d19",
    "_uuid": "8f2839f25d086af736a60e9eeb907d3b93b6e0e5",
    "execution": {
     "iopub.execute_input": "2020-12-02T16:55:13.457428Z",
     "iopub.status.busy": "2020-12-02T16:55:13.456747Z",
     "iopub.status.idle": "2020-12-02T16:55:14.422845Z",
     "shell.execute_reply": "2020-12-02T16:55:14.423404Z"
    },
    "papermill": {
     "duration": 0.992064,
     "end_time": "2020-12-02T16:55:14.423562",
     "exception": false,
     "start_time": "2020-12-02T16:55:13.431498",
     "status": "completed"
    },
    "tags": []
   },
   "outputs": [],
   "source": [
    "from sklearn.datasets import make_regression\n",
    "import matplotlib.pyplot as plt"
   ]
  },
  {
   "cell_type": "markdown",
   "metadata": {
    "papermill": {
     "duration": 0.020745,
     "end_time": "2020-12-02T16:55:14.464373",
     "exception": false,
     "start_time": "2020-12-02T16:55:14.443628",
     "status": "completed"
    },
    "tags": []
   },
   "source": [
    "Now that we've imported the libraries, let's use sklearn's make_regression function to make our mock dataset. Don't worry too much about the details regarding the arguments being passed to the function. All you need to know is that we're going to make 100 mock data points. Each point has a distinct x and y coordinate."
   ]
  },
  {
   "cell_type": "code",
   "execution_count": 2,
   "metadata": {
    "_cell_guid": "79c7e3d0-c299-4dcb-8224-4455121ee9b0",
    "_uuid": "d629ff2d2480ee46fbb7e2d37f6b5fab8052498a",
    "execution": {
     "iopub.execute_input": "2020-12-02T16:55:14.509144Z",
     "iopub.status.busy": "2020-12-02T16:55:14.508506Z",
     "iopub.status.idle": "2020-12-02T16:55:14.514924Z",
     "shell.execute_reply": "2020-12-02T16:55:14.514178Z"
    },
    "papermill": {
     "duration": 0.031371,
     "end_time": "2020-12-02T16:55:14.515045",
     "exception": false,
     "start_time": "2020-12-02T16:55:14.483674",
     "status": "completed"
    },
    "tags": []
   },
   "outputs": [],
   "source": [
    "X, y = make_regression(n_samples=100, n_features=1, bias=5, noise=5, random_state=762)\n",
    "y = y.reshape(-1, 1)"
   ]
  },
  {
   "cell_type": "markdown",
   "metadata": {
    "papermill": {
     "duration": 0.029131,
     "end_time": "2020-12-02T16:55:14.573722",
     "exception": false,
     "start_time": "2020-12-02T16:55:14.544591",
     "status": "completed"
    },
    "tags": []
   },
   "source": [
    "Now that we have our mock data, let's use matplotlib to visualize it."
   ]
  },
  {
   "cell_type": "code",
   "execution_count": 3,
   "metadata": {
    "execution": {
     "iopub.execute_input": "2020-12-02T16:55:14.638897Z",
     "iopub.status.busy": "2020-12-02T16:55:14.638026Z",
     "iopub.status.idle": "2020-12-02T16:55:14.845318Z",
     "shell.execute_reply": "2020-12-02T16:55:14.844620Z"
    },
    "papermill": {
     "duration": 0.242338,
     "end_time": "2020-12-02T16:55:14.845446",
     "exception": false,
     "start_time": "2020-12-02T16:55:14.603108",
     "status": "completed"
    },
    "tags": []
   },
   "outputs": [
    {
     "data": {
      "image/png": "[encoded data removed]",
      "text/plain": [
       "<Figure size 432x288 with 1 Axes>"
      ]
     },
     "metadata": {
      "needs_background": "light"
     },
     "output_type": "display_data"
    }
   ],
   "source": [
    "plt.scatter(X, y)\n",
    "plt.show()"
   ]
  },
  {
   "cell_type": "markdown",
   "metadata": {
    "papermill": {
     "duration": 0.030137,
     "end_time": "2020-12-02T16:55:14.907084",
     "exception": false,
     "start_time": "2020-12-02T16:55:14.876947",
     "status": "completed"
    },
    "tags": []
   },
   "source": [
    "I'm hoping that what you're seeing in the plot above is somewhat what you expected to see. What you're seeing is 100 distinct points. All of which seem to be going in the same direction. If you squint your eyes, you'll see that the points on the graph somewhat make a shape which looks kind of like a straight line."
   ]
  },
  {
   "cell_type": "markdown",
   "metadata": {
    "papermill": {
     "duration": 0.030697,
     "end_time": "2020-12-02T16:55:14.968107",
     "exception": false,
     "start_time": "2020-12-02T16:55:14.937410",
     "status": "completed"
    },
    "tags": []
   },
   "source": [
    "## 1.2 Drawing Our Best Fit Line\n",
    "\n",
    "Now, it's almost time to draw our best fit line. Before we can do that, let's just quickly go over the definition of a line in math. If you remember from high school math, a line can be defined as y=m*x+b, where m represents the slope, x represents a position on the x-axis and b represents the bias. If none of that made any sense, that's OK. Playing with the code below should clear it up. I've started you off with values for m and b, but to really understand how m and b effect the red line below, make sure you give them different values and re-run the code. Change the values for m and b individually so that you can see how they affect the line."
   ]
  },
  {
   "cell_type": "code",
   "execution_count": 4,
   "metadata": {
    "execution": {
     "iopub.execute_input": "2020-12-02T16:55:15.044438Z",
     "iopub.status.busy": "2020-12-02T16:55:15.043260Z",
     "iopub.status.idle": "2020-12-02T16:55:15.185618Z",
     "shell.execute_reply": "2020-12-02T16:55:15.184965Z"
    },
    "papermill": {
     "duration": 0.186733,
     "end_time": "2020-12-02T16:55:15.185741",
     "exception": false,
     "start_time": "2020-12-02T16:55:14.999008",
     "status": "completed"
    },
    "tags": []
   },
   "outputs": [
    {
     "data": {
      "image/png": "[encoded data removed]",
      "text/plain": [
       "<Figure size 432x288 with 1 Axes>"
      ]
     },
     "metadata": {
      "needs_background": "light"
     },
     "output_type": "display_data"
    }
   ],
   "source": [
    "m, b = 13, 4\n",
    "\n",
    "y_pred = []\n",
    "for x in X:\n",
    "    y_pred.append(m*float(x) + b)\n",
    "plt.scatter(X, y)\n",
    "plt.plot(X, y_pred, 'r')\n",
    "plt.show()"
   ]
  },
  {
   "cell_type": "markdown",
   "metadata": {
    "papermill": {
     "duration": 0.021343,
     "end_time": "2020-12-02T16:55:15.229147",
     "exception": false,
     "start_time": "2020-12-02T16:55:15.207804",
     "status": "completed"
    },
    "tags": []
   },
   "source": [
    "You'll see in the code above that we're plotting 2 different things - the actual points and the line. The line is defined by our formula y=m*x+b. We loop over each x value in order to get our y value of the line at that point. There you have it, linear regression!... Well, kinda..."
   ]
  },
  {
   "cell_type": "markdown",
   "metadata": {
    "papermill": {
     "duration": 0.021221,
     "end_time": "2020-12-02T16:55:15.272025",
     "exception": false,
     "start_time": "2020-12-02T16:55:15.250804",
     "status": "completed"
    },
    "tags": []
   },
   "source": [
    "## 1.3 Finding the Best Fit\n",
    "\n",
    "So we kinda sorta found a best fit line above. It was us just guessing random values for m and b which made it look like the line is going through the points on the graph in a balanced way - in a way which we think represents the general shape of our data well enough that we can take it to be our \"best fit\" line.\n",
    "\n",
    "Now, how would you code it so that all of this happens automatically, and your algorithm finds a good best fit line for you? The way I've done it below is semi-automated. I start with the slope (m) and the bias (b) set to 0 and then I keep incrementing them during every iteration (epoch) by values, which I randomly chose. I decided to set my last iteration (epoch) to be at a number, not too high and not too low, which I think gives me a good best fit line. This time don't play with the values for the slope and the bias, instead, play with the number of epochs to see how it effects the output.\n",
    "\n",
    "Just on the side, I'm importing 2 more libraries which are used for demo purposes only. These libraries (time and IPython) have nothing to do with the actual algorithm. I placed the functions from these 2 libraries between comments in the actual algorithm, so that you can ignore that part."
   ]
  },
  {
   "cell_type": "code",
   "execution_count": 5,
   "metadata": {
    "execution": {
     "iopub.execute_input": "2020-12-02T16:55:15.323026Z",
     "iopub.status.busy": "2020-12-02T16:55:15.321894Z",
     "iopub.status.idle": "2020-12-02T16:55:15.325194Z",
     "shell.execute_reply": "2020-12-02T16:55:15.324478Z"
    },
    "papermill": {
     "duration": 0.030495,
     "end_time": "2020-12-02T16:55:15.325331",
     "exception": false,
     "start_time": "2020-12-02T16:55:15.294836",
     "status": "completed"
    },
    "tags": []
   },
   "outputs": [],
   "source": [
    "import time\n",
    "from IPython import display"
   ]
  },
  {
   "cell_type": "code",
   "execution_count": 6,
   "metadata": {
    "execution": {
     "iopub.execute_input": "2020-12-02T16:55:15.401395Z",
     "iopub.status.busy": "2020-12-02T16:55:15.400536Z",
     "iopub.status.idle": "2020-12-02T16:55:17.801049Z",
     "shell.execute_reply": "2020-12-02T16:55:17.800278Z"
    },
    "papermill": {
     "duration": 2.443087,
     "end_time": "2020-12-02T16:55:17.801193",
     "exception": false,
     "start_time": "2020-12-02T16:55:15.358106",
     "status": "completed"
    },
    "tags": []
   },
   "outputs": [
    {
     "data": {
      "image/png": "[encoded data removed]",
      "text/plain": [
       "<Figure size 432x288 with 1 Axes>"
      ]
     },
     "metadata": {
      "needs_background": "light"
     },
     "output_type": "display_data"
    }
   ],
   "source": [
    "slope = 0\n",
    "bias = 0\n",
    "epochs = 15\n",
    "\n",
    "for epoch in range(epochs):\n",
    "    y_pred = []\n",
    "    for x in X:\n",
    "        y_pred.append(slope*float(x) + bias)\n",
    "\n",
    "    ######demo purpose only#####\n",
    "    display.display(plt.gcf())\n",
    "    display.clear_output(wait=True)\n",
    "    ##########plotting##########\n",
    "    plt.scatter(X, y)\n",
    "    plt.plot(X, y_pred, 'r')\n",
    "    plt.title('slope = {0:.1f}, bias = {1:.1f}'.format(slope, bias))\n",
    "    plt.show()\n",
    "    ############################\n",
    "\n",
    "    slope += 1\n",
    "    bias += 0.3"
   ]
  },
  {
   "cell_type": "markdown",
   "metadata": {
    "papermill": {
     "duration": 0.038755,
     "end_time": "2020-12-02T16:55:17.882312",
     "exception": false,
     "start_time": "2020-12-02T16:55:17.843557",
     "status": "completed"
    },
    "tags": []
   },
   "source": [
    "## 1.4 Mean Squared Error\n",
    "\n",
    "So far, we've come to realize a couple things. We saw that the slope and the bias are the numbers which influence the line, and that linear regression is synonymous to a best fit line. The question I want you to think about now is, what is it that you're looking at to determine what is a best fit line? In your mind, what are you doing? How I'd define it is that you're doing a comparison of the \"best fit\" line and the points on the graph. The further away the line is to the points, the less likely that line is to be considered a \"best fit\" line. Let's look at an example. Run the 2 cells below to output the graphs used for this example."
   ]
  },
  {
   "cell_type": "code",
   "execution_count": 7,
   "metadata": {
    "execution": {
     "iopub.execute_input": "2020-12-02T16:55:17.973076Z",
     "iopub.status.busy": "2020-12-02T16:55:17.972174Z",
     "iopub.status.idle": "2020-12-02T16:55:18.108459Z",
     "shell.execute_reply": "2020-12-02T16:55:18.109093Z"
    },
    "papermill": {
     "duration": 0.190066,
     "end_time": "2020-12-02T16:55:18.109233",
     "exception": false,
     "start_time": "2020-12-02T16:55:17.919167",
     "status": "completed"
    },
    "tags": []
   },
   "outputs": [
    {
     "data": {
      "image/png": "[encoded data removed]",
      "text/plain": [
       "<Figure size 432x288 with 1 Axes>"
      ]
     },
     "metadata": {
      "needs_background": "light"
     },
     "output_type": "display_data"
    }
   ],
   "source": [
    "m, b = 14, 4\n",
    "\n",
    "y_pred = []\n",
    "for x in X:\n",
    "    y_pred.append(m*float(x) + b)\n",
    "plt.scatter(X, y)\n",
    "plt.plot(X, y_pred, 'r')\n",
    "plt.title('Figure 1.4.1')\n",
    "plt.show()"
   ]
  },
  {
   "cell_type": "code",
   "execution_count": 8,
   "metadata": {
    "execution": {
     "iopub.execute_input": "2020-12-02T16:55:18.178007Z",
     "iopub.status.busy": "2020-12-02T16:55:18.171863Z",
     "iopub.status.idle": "2020-12-02T16:55:18.310838Z",
     "shell.execute_reply": "2020-12-02T16:55:18.311314Z"
    },
    "papermill": {
     "duration": 0.178622,
     "end_time": "2020-12-02T16:55:18.311451",
     "exception": false,
     "start_time": "2020-12-02T16:55:18.132829",
     "status": "completed"
    },
    "tags": []
   },
   "outputs": [
    {
     "data": {
      "image/png": "[encoded data removed]",
      "text/plain": [
       "<Figure size 432x288 with 1 Axes>"
      ]
     },
     "metadata": {
      "needs_background": "light"
     },
     "output_type": "display_data"
    }
   ],
   "source": [
    "m, b = 14, -15\n",
    "\n",
    "y_pred = []\n",
    "for x in X:\n",
    "    y_pred.append(m*float(x) + b)\n",
    "plt.scatter(X, y)\n",
    "plt.plot(X, y_pred, 'r')\n",
    "plt.title('Figure 1.4.2')\n",
    "plt.show()"
   ]
  },
  {
   "cell_type": "markdown",
   "metadata": {
    "papermill": {
     "duration": 0.023915,
     "end_time": "2020-12-02T16:55:18.359919",
     "exception": false,
     "start_time": "2020-12-02T16:55:18.336004",
     "status": "completed"
    },
    "tags": []
   },
   "source": [
    "Looking at Figure 1.4.1 and Figure 1.4.2, which would you deem to be a better fit? Figure 1.4.1 is clearly the better fit. Why? Because, in general, it's closer to the points.\n",
    "\n",
    "Is there a mathematical way to get one number to see how far, on average, the line is to the points? Yes, there is! We're going to use something known as a loss function. The loss function we'll being using for linear regression is the mean squared error (MSE). For each point, it finds the distance with its respective x value on the line. The equation does that for all the points and then gets the average.\n",
    "\n",
    "Let's write it out in a function."
   ]
  },
  {
   "cell_type": "code",
   "execution_count": 9,
   "metadata": {
    "execution": {
     "iopub.execute_input": "2020-12-02T16:55:18.418685Z",
     "iopub.status.busy": "2020-12-02T16:55:18.417945Z",
     "iopub.status.idle": "2020-12-02T16:55:18.421628Z",
     "shell.execute_reply": "2020-12-02T16:55:18.422132Z"
    },
    "papermill": {
     "duration": 0.036671,
     "end_time": "2020-12-02T16:55:18.422267",
     "exception": false,
     "start_time": "2020-12-02T16:55:18.385596",
     "status": "completed"
    },
    "tags": []
   },
   "outputs": [],
   "source": [
    "def mse(y, y_pred):                       ## mean squared error\n",
    "    summation = 0.                        ## variable for holding the sum of the distances\n",
    "    n = y.shape[0]                        ## get the amount of points\n",
    "    for i in range(n):                    ## for each point\n",
    "        summation += (y[i]-y_pred[i])**2  ## get the distance between the point and its respective x value on the \"best fit\" line and square it                                       \n",
    "    return float(summation/n)             ## return the average distance as 1 number"
   ]
  },
  {
   "cell_type": "markdown",
   "metadata": {
    "papermill": {
     "duration": 0.024909,
     "end_time": "2020-12-02T16:55:18.472214",
     "exception": false,
     "start_time": "2020-12-02T16:55:18.447305",
     "status": "completed"
    },
    "tags": []
   },
   "source": [
    "The above seems all good and well, but a visualization would probably explain it better. Run the cell below to see our MSE in action. The graph on the left is the graph with our regression points and the graph on the right is the MSE value at each epoch."
   ]
  },
  {
   "cell_type": "code",
   "execution_count": 10,
   "metadata": {
    "execution": {
     "iopub.execute_input": "2020-12-02T16:55:18.534601Z",
     "iopub.status.busy": "2020-12-02T16:55:18.531659Z",
     "iopub.status.idle": "2020-12-02T16:55:55.225606Z",
     "shell.execute_reply": "2020-12-02T16:55:55.226127Z"
    },
    "papermill": {
     "duration": 36.729084,
     "end_time": "2020-12-02T16:55:55.226275",
     "exception": false,
     "start_time": "2020-12-02T16:55:18.497191",
     "status": "completed"
    },
    "tags": []
   },
   "outputs": [
    {
     "data": {
      "text/plain": [
       "<Figure size 432x288 with 0 Axes>"
      ]
     },
     "metadata": {},
     "output_type": "display_data"
    },
    {
     "data": {
      "image/png": "[encoded data removed]",
      "text/plain": [
       "<Figure size 432x288 with 2 Axes>"
      ]
     },
     "metadata": {
      "needs_background": "light"
     },
     "output_type": "display_data"
    }
   ],
   "source": [
    "epoch_loss = []\n",
    "\n",
    "slope = 0\n",
    "bias = 0\n",
    "\n",
    "for epoch in range(25):\n",
    "    y_pred = []\n",
    "    for x in X:\n",
    "        y_pred.append(slope*float(x) + bias)\n",
    "    loss = mse(y, y_pred)\n",
    "    epoch_loss.append(loss)\n",
    "\n",
    "    ######demo purpose only#####\n",
    "    display.display(plt.gcf())\n",
    "    display.clear_output(wait=True)\n",
    "    ##########plotting##########\n",
    "    fig, (ax0, ax1) = plt.subplots(ncols=2, constrained_layout=True)\n",
    "    ax0.scatter(X, y)\n",
    "    ax0.plot(X, y_pred, 'r')\n",
    "    ax0.set_title('slope = {0:.1f}, bias = {1:.1f}'.format(slope, bias))\n",
    "    ax1.set_title('mse = {0:.2f}'.format(loss))\n",
    "    ax1.plot(epoch_loss)\n",
    "    plt.show()\n",
    "    time.sleep(1)\n",
    "    ############################\n",
    "\n",
    "    slope += 1\n",
    "    bias += 0.3"
   ]
  },
  {
   "cell_type": "markdown",
   "metadata": {
    "papermill": {
     "duration": 0.025871,
     "end_time": "2020-12-02T16:55:55.278525",
     "exception": false,
     "start_time": "2020-12-02T16:55:55.252654",
     "status": "completed"
    },
    "tags": []
   },
   "source": [
    "Now that we have a good understanding of our loss function, we see how much value it can bring us in fitting our best fit line with confidence. We see that the lowest value for MSE gives us a really good best fit line. The question now is, how do we automate it so that our algorithm finds the optimal MSE without us having to manually increment the slope and bias values?\n",
    "\n",
    "Before we move on, just a reminder, us incrementing the slope by 1 and bias by 0.3 at each epoch was manually chosen. Those values are fine for this mock dataset, but most probably will not hold true for a different dataset. Those incrementation values are what we're trying to have our algorithm automatically find."
   ]
  },
  {
   "cell_type": "markdown",
   "metadata": {
    "papermill": {
     "duration": 0.025845,
     "end_time": "2020-12-02T16:55:55.331484",
     "exception": false,
     "start_time": "2020-12-02T16:55:55.305639",
     "status": "completed"
    },
    "tags": []
   },
   "source": [
    "## 1.5 Gradient Descent\n",
    "\n",
    "We've finally made it to gradient descent! This is the part we've been waiting for. It allows us to automatically find the correct values to update the slope and bias. But before we move forward, let's just recap the steps we've taken to get to this point up until now:\n",
    "\n",
    "1. We made our mock dataset and plotted it.\n",
    "2. We randomly chose our initial values for our slope and bias for our best fit line.\n",
    "3. We plotted a best fit line with our values for the slope and bias.\n",
    "4. At every epoch, we evaluated our line with respect to our MSE.\n",
    "5. We assigned random values to our slope and bias to update by. This step is what we intend to use calculus on in order to be able to automate it and remove the random part.\n",
    "6. We updated our slope and bias, in order to improve our MSE.\n",
    "7. Repeat steps 3–6 until satisfied with the MSE.\n",
    "\n",
    "Going back to gradient descent. If you were looking at the U-shaped MSE graph in 1.4 and thinking calculus, then you're one step ahead. If calculus didn't come to your mind, you're probably wondering how calculus will help us in our quest to automatically find the lowest MSE. Let's take a moment to clarify it. If you remember our MSE graph in 1.4, then you'll remember that the graph looked like a valley - the optimal value being at the bottom of the valley. Calculus is just a tool to calculate the slope at a given point. Understanding the steepness of the slope and the direction of it allows us to understand in what direction we should be heading to be able to reach the bottom of the valley. Us slowly \"descending\" the valley is why this process is known as gradient descent.\n",
    "\n",
    "In this book, we won't cover the rules of calculus nor will we being going over the derivation of the equations. I do suggest that you go over it and there are many good resources online, but it's not necessary once we get into PyTorch. Regardless, for the purposes of our exercise, I'll be providing you with the formulae which were derived using partial derivatives (i.e., calculus).\n",
    "\n",
    "The derivative of the MSE with respect to the slope is X * (y-y_pred). <br/>\n",
    "The derivative of the MSE with respect to the bias is 1 * (y-y_pred), which is the same as just (y-y_pred).\n",
    "\n",
    "Awesome! We now have all the equations we need to automatically fit this line and be sure that it is in fact a best fit for our dataset. Now let's run the cell below and see it in action!"
   ]
  },
  {
   "cell_type": "code",
   "execution_count": 11,
   "metadata": {
    "execution": {
     "iopub.execute_input": "2020-12-02T16:55:55.407349Z",
     "iopub.status.busy": "2020-12-02T16:55:55.401719Z",
     "iopub.status.idle": "2020-12-02T16:57:09.750659Z",
     "shell.execute_reply": "2020-12-02T16:57:09.750069Z"
    },
    "papermill": {
     "duration": 74.392999,
     "end_time": "2020-12-02T16:57:09.750794",
     "exception": false,
     "start_time": "2020-12-02T16:55:55.357795",
     "status": "completed"
    },
    "tags": []
   },
   "outputs": [
    {
     "data": {
      "text/plain": [
       "<Figure size 432x288 with 0 Axes>"
      ]
     },
     "metadata": {},
     "output_type": "display_data"
    },
    {
     "data": {
      "image/png": "[encoded data removed]",
      "text/plain": [
       "<Figure size 432x288 with 2 Axes>"
      ]
     },
     "metadata": {
      "needs_background": "light"
     },
     "output_type": "display_data"
    }
   ],
   "source": [
    "epoch_loss = []\n",
    "\n",
    "slope = 0.\n",
    "bias = 0.\n",
    "learning_rate = 1e-3\n",
    "n = X.shape[0]\n",
    "\n",
    "\n",
    "for epoch in range(50):\n",
    "    y_pred = []\n",
    "    for x in X:\n",
    "        y_pred.append(slope*float(x) + bias)\n",
    "    loss = mse(y, y_pred)\n",
    "    epoch_loss.append(loss)\n",
    "\n",
    "    ######demo purpose only#####\n",
    "    display.display(plt.gcf())\n",
    "    display.clear_output(wait=True)\n",
    "    ##########plotting##########\n",
    "    fig, (ax0, ax1) = plt.subplots(ncols=2, constrained_layout=True)\n",
    "    fig.suptitle('epoch = {0}'.format(epoch))\n",
    "    ax0.scatter(X, y)\n",
    "    ax0.plot(X, y_pred, 'r')\n",
    "    ax0.set_title('slope = {0:.1f}, bias = {1:.1f}'.format(slope, bias))\n",
    "    ax1.set_title('mse = {0:.2f}'.format(loss))\n",
    "    ax1.plot(epoch_loss)\n",
    "    plt.show()\n",
    "    time.sleep(1)\n",
    "    #############################\n",
    "  \n",
    "    ###derivatives of mse with respect to slope and bias###\n",
    "\n",
    "    ###zero-ing out the gradients###\n",
    "    D_mse_wrt_slope = 0.\n",
    "    D_mse_wrt_bias = 0.\n",
    "    ###performing back propagtion for each point on the graph###\n",
    "    for i in range(n):\n",
    "        D_mse_wrt_slope += float(X[i]) * (float(y[i]) - float(y_pred[i]))\n",
    "        D_mse_wrt_bias += float(y[i]) - float(y_pred[i])\n",
    "  \n",
    "    ###updating the slope and bias###\n",
    "    slope += learning_rate * D_mse_wrt_slope\n",
    "    bias += learning_rate * D_mse_wrt_bias"
   ]
  },
  {
   "cell_type": "markdown",
   "metadata": {
    "papermill": {
     "duration": 0.027528,
     "end_time": "2020-12-02T16:57:09.806402",
     "exception": false,
     "start_time": "2020-12-02T16:57:09.778874",
     "status": "completed"
    },
    "tags": []
   },
   "source": [
    "Wow, that was cool! We could have probably stopped at 20 epochs, but I wanted to show how robust our calculations actually are. No matter how many epochs you go for, it just keeps getting better and better. The power of math. Who knew all those high school math courses were actually worth something?\n",
    "\n",
    "You're probably looking at the code and realizing a few things. The first thing is that there's a variable added known as the learning_rate. What is that? Remember I told you that calculus allows us to find out the how steep the slope is at a given point and hence guides us in descending down to the valley? Well, the learning rate is just a number which tells our algorithm how big the step should be in our desired direction. It lets our algorithm know if we should be tip toeing down the slope, or if we should be running down.\n",
    "\n",
    "Try different values for the learning rate and re-run the cell to see how it effects our algorithm. Try the value 1e-2 and then try 1e-4. Also, how did I come up with 1e-3? Unfortunately, I lied and not everything is 100% automated. That value was chosen via trial and error, but incrementing/decrementing with 10 to the power of a number is a good rule to go by.\n",
    "\n",
    "The other thing you're probably seeing is that we set the partial derivative variables (i.e., gradients) to 0 during every epoch. This is an important step to make sure your gradients aren't adding up. Try removing that and seeing how it effects the algorithm."
   ]
  },
  {
   "cell_type": "markdown",
   "metadata": {
    "papermill": {
     "duration": 0.027329,
     "end_time": "2020-12-02T16:57:09.861252",
     "exception": false,
     "start_time": "2020-12-02T16:57:09.833923",
     "status": "completed"
    },
    "tags": []
   },
   "source": [
    "## 1.6 No Loops!\n",
    "\n",
    "So far in this chapter, we've used loops to do our summations. We've also used loops to calculate our y values for our regression line (i.e., best fit line). A little secret about machine learning practitioners is that they hate loops. They try every trick in the book to get away from loops. Why? Because it's computationally expensive and it's not parallelizable.\n",
    "\n",
    "In order to get away from loops, we're going to import a famous library known as NumPy. It's a very powerful library used for linear algebra."
   ]
  },
  {
   "cell_type": "code",
   "execution_count": 12,
   "metadata": {
    "execution": {
     "iopub.execute_input": "2020-12-02T16:57:09.921865Z",
     "iopub.status.busy": "2020-12-02T16:57:09.921056Z",
     "iopub.status.idle": "2020-12-02T16:57:09.925991Z",
     "shell.execute_reply": "2020-12-02T16:57:09.925453Z"
    },
    "papermill": {
     "duration": 0.036952,
     "end_time": "2020-12-02T16:57:09.926108",
     "exception": false,
     "start_time": "2020-12-02T16:57:09.889156",
     "status": "completed"
    },
    "tags": []
   },
   "outputs": [],
   "source": [
    "import numpy as np"
   ]
  },
  {
   "cell_type": "markdown",
   "metadata": {
    "papermill": {
     "duration": 0.027415,
     "end_time": "2020-12-02T16:57:09.981339",
     "exception": false,
     "start_time": "2020-12-02T16:57:09.953924",
     "status": "completed"
    },
    "tags": []
   },
   "source": [
    "Now that we've imported it, let's rewrite our MSE function using NumPy."
   ]
  },
  {
   "cell_type": "code",
   "execution_count": 13,
   "metadata": {
    "execution": {
     "iopub.execute_input": "2020-12-02T16:57:10.043241Z",
     "iopub.status.busy": "2020-12-02T16:57:10.042492Z",
     "iopub.status.idle": "2020-12-02T16:57:10.046855Z",
     "shell.execute_reply": "2020-12-02T16:57:10.046319Z"
    },
    "papermill": {
     "duration": 0.037288,
     "end_time": "2020-12-02T16:57:10.046958",
     "exception": false,
     "start_time": "2020-12-02T16:57:10.009670",
     "status": "completed"
    },
    "tags": []
   },
   "outputs": [],
   "source": [
    "def mse(y, y_pred): ##mean squared error\n",
    "  return np.sum((y - y_pred)**2)/y.shape[0]"
   ]
  },
  {
   "cell_type": "markdown",
   "metadata": {
    "papermill": {
     "duration": 0.02815,
     "end_time": "2020-12-02T16:57:10.103144",
     "exception": false,
     "start_time": "2020-12-02T16:57:10.074994",
     "status": "completed"
    },
    "tags": []
   },
   "source": [
    "That's it! Using NumPy's sum function, we were able to reduce our summation loop into only 1 line!\n",
    "\n",
    "Let's see how we can implement the rest of the code using NumPy and remove the loops."
   ]
  },
  {
   "cell_type": "code",
   "execution_count": 14,
   "metadata": {
    "execution": {
     "iopub.execute_input": "2020-12-02T16:57:10.173059Z",
     "iopub.status.busy": "2020-12-02T16:57:10.169573Z",
     "iopub.status.idle": "2020-12-02T16:58:22.312289Z",
     "shell.execute_reply": "2020-12-02T16:58:22.311662Z"
    },
    "papermill": {
     "duration": 72.180767,
     "end_time": "2020-12-02T16:58:22.312400",
     "exception": false,
     "start_time": "2020-12-02T16:57:10.131633",
     "status": "completed"
    },
    "tags": []
   },
   "outputs": [
    {
     "data": {
      "text/plain": [
       "<Figure size 432x288 with 0 Axes>"
      ]
     },
     "metadata": {},
     "output_type": "display_data"
    },
    {
     "data": {
      "image/png": "[encoded data removed]",
      "text/plain": [
       "<Figure size 432x288 with 2 Axes>"
      ]
     },
     "metadata": {
      "needs_background": "light"
     },
     "output_type": "display_data"
    }
   ],
   "source": [
    "epoch_loss = []\n",
    "\n",
    "slope = 0.\n",
    "bias = 0.\n",
    "learning_rate = 1e-3\n",
    "\n",
    "for epoch in range(50):\n",
    "    ##changed##\n",
    "    y_pred = slope*X + bias\n",
    "    ###########\n",
    "    loss = mse(y, y_pred)\n",
    "    epoch_loss.append(loss)\n",
    "\n",
    "    ######demo purpose only#####\n",
    "    display.display(plt.gcf())\n",
    "    display.clear_output(wait=True)\n",
    "    ##########plotting##########\n",
    "    fig, (ax0, ax1) = plt.subplots(ncols=2, constrained_layout=True)\n",
    "    fig.suptitle('epoch = {0}'.format(epoch))\n",
    "    ax0.scatter(X, y)\n",
    "    ax0.plot(X, y_pred, 'r')\n",
    "    ax0.set_title('slope = {0:.1f}, bias = {1:.1f}'.format(slope, bias))\n",
    "    ax1.set_title('mse = {0:.2f}'.format(loss))\n",
    "    ax1.plot(epoch_loss)\n",
    "    plt.show()\n",
    "    time.sleep(1)\n",
    "    ############################\n",
    "\n",
    "    ###derivatives of mse with respect to slope and bias###\n",
    "\n",
    "    ##changed##\n",
    "    D_mse_wrt_slope = np.sum(X * (y - y_pred))\n",
    "    D_mse_wrt_bias = np.sum(y - y_pred)\n",
    "    ###########\n",
    "\n",
    "    slope += learning_rate * D_mse_wrt_slope\n",
    "    bias += learning_rate * D_mse_wrt_bias"
   ]
  },
  {
   "cell_type": "markdown",
   "metadata": {
    "papermill": {
     "duration": 0.031649,
     "end_time": "2020-12-02T16:58:22.374143",
     "exception": false,
     "start_time": "2020-12-02T16:58:22.342494",
     "status": "completed"
    },
    "tags": []
   },
   "source": [
    "Amazing! Without loops, if we don't count the lines used for plotting, we were able to perform linear regression using gradient descent in only 10 lines!\n",
    "\n",
    "There are two things I wish to point out before ending this chapter. The first point is that you probably realized that I'm not explicitly zero-ing out the gradients. The reason for that is because we don't need to. Since we're not using loops anymore, the new values for the gradients just replace the old ones. The second point is that you'll see that I've also gotten rid of the loop for our regression line equation. How could I do that? Well, because of the parallelization of the equation (essentially means that the same equation is happening over and over again in a loop format), it's an excellent candidate for NumPy. In the background, NumPy is treating it as a matrix calculation, and if you know about linear algebra, you know that for every row in a matrix, all the calculations can be done simultaneously."
   ]
  },
  {
   "cell_type": "markdown",
   "metadata": {
    "papermill": {
     "duration": 0.029362,
     "end_time": "2020-12-02T16:58:22.437873",
     "exception": false,
     "start_time": "2020-12-02T16:58:22.408511",
     "status": "completed"
    },
    "tags": []
   },
   "source": [
    "## 1.7 Linear Regression's Computation Graphs\n",
    "\n",
    "Below, you should find the computation graph for linear regression. It's a nice and simple diagram which sums up the steps to linear regression using gradient descent. The process starts at the left and goes to the right. You'll see that the 2 circles on the far left represent our inputs, the circle in the middle is our regression line equation and the circle on the far right represents our loss function, which is MSE for this case. Going left to right is known as forward propagation and then going right to left (which is done using calculus) is known as backpropagation."
   ]
  },
  {
   "attachments": {},
   "cell_type": "markdown",
   "metadata": {
    "papermill": {
     "duration": 0.029534,
     "end_time": "2020-12-02T16:58:22.496850",
     "exception": false,
     "start_time": "2020-12-02T16:58:22.467316",
     "status": "completed"
    },
    "tags": []
   },
   "source": [
    "![linear%20regression.png](images/linear%20regression.png?raw=true)"
   ]
  },
  {
   "cell_type": "markdown",
   "metadata": {
    "papermill": {
     "duration": 0.029785,
     "end_time": "2020-12-02T16:58:22.556416",
     "exception": false,
     "start_time": "2020-12-02T16:58:22.526631",
     "status": "completed"
    },
    "tags": []
   },
   "source": [
    "Now that you've had a chance to look at the diagram above, you must be thinking where'd the 1 come from? We'll address that in Chapter 4: Pima Indians Diabetes Dataset."
   ]
  }
 ],
 "metadata": {
  "kernelspec": {
   "display_name": "Python 3",
   "language": "python",
   "name": "python3"
  },
  "language_info": {
   "codemirror_mode": {
    "name": "ipython",
    "version": 3
   },
   "file_extension": ".py",
   "mimetype": "text/x-python",
   "name": "python",
   "nbconvert_exporter": "python",
   "pygments_lexer": "ipython3",
   "version": "3.7.1"
  },
  "papermill": {
   "duration": 193.51245,
   "end_time": "2020-12-02T16:58:22.695244",
   "environment_variables": {},
   "exception": null,
   "input_path": "__notebook__.ipynb",
   "output_path": "__notebook__.ipynb",
   "parameters": {},
   "start_time": "2020-12-02T16:55:09.182794",
   "version": "2.1.0"
  }
 },
 "nbformat": 4,
 "nbformat_minor": 4
}
