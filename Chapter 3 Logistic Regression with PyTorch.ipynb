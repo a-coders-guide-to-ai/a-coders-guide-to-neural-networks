{
 "cells": [
  {
   "cell_type": "markdown",
   "metadata": {
    "papermill": {
     "duration": 0.010654,
     "end_time": "2020-12-02T19:52:06.198961",
     "exception": false,
     "start_time": "2020-12-02T19:52:06.188307",
     "status": "completed"
    },
    "tags": []
   },
   "source": [
    "# Logistic Regression with PyTorch\n",
    "----------------\n",
    "\n",
    "Last chapter, we covered logistic regression and its loss function (i.e., BCE). We were able to implement it using NumPy, and we also covered some tricks along the way. In this chapter, we'll be covering logistic regression again, but this time, in PyTorch.\n",
    "\n",
    "We're going to start by importing the same libraries as before, except this time, we won't be importing NumPy, we'll be importing PyTorch instead."
   ]
  },
  {
   "cell_type": "code",
   "execution_count": 1,
   "metadata": {
    "_cell_guid": "b1076dfc-b9ad-4769-8c92-a6c4dae69d19",
    "_uuid": "8f2839f25d086af736a60e9eeb907d3b93b6e0e5",
    "execution": {
     "iopub.execute_input": "2020-12-02T19:52:06.224073Z",
     "iopub.status.busy": "2020-12-02T19:52:06.223297Z",
     "iopub.status.idle": "2020-12-02T19:52:07.181946Z",
     "shell.execute_reply": "2020-12-02T19:52:07.180962Z"
    },
    "papermill": {
     "duration": 0.973536,
     "end_time": "2020-12-02T19:52:07.182092",
     "exception": false,
     "start_time": "2020-12-02T19:52:06.208556",
     "status": "completed"
    },
    "tags": []
   },
   "outputs": [],
   "source": [
    "import torch\n",
    "import matplotlib.pyplot as plt\n",
    "from IPython import display\n",
    "import time"
   ]
  },
  {
   "cell_type": "markdown",
   "metadata": {
    "papermill": {
     "duration": 0.014495,
     "end_time": "2020-12-02T19:52:07.212235",
     "exception": false,
     "start_time": "2020-12-02T19:52:07.197740",
     "status": "completed"
    },
    "tags": []
   },
   "source": [
    "Now that we imported the required libraries, let's make the same dataset which we constructed at the start of chapter 2, but this time, in PyTorch."
   ]
  },
  {
   "cell_type": "code",
   "execution_count": 2,
   "metadata": {
    "_cell_guid": "79c7e3d0-c299-4dcb-8224-4455121ee9b0",
    "_uuid": "d629ff2d2480ee46fbb7e2d37f6b5fab8052498a",
    "execution": {
     "iopub.execute_input": "2020-12-02T19:52:07.247226Z",
     "iopub.status.busy": "2020-12-02T19:52:07.246610Z",
     "iopub.status.idle": "2020-12-02T19:52:07.266883Z",
     "shell.execute_reply": "2020-12-02T19:52:07.266306Z"
    },
    "papermill": {
     "duration": 0.040382,
     "end_time": "2020-12-02T19:52:07.267001",
     "exception": false,
     "start_time": "2020-12-02T19:52:07.226619",
     "status": "completed"
    },
    "tags": []
   },
   "outputs": [],
   "source": [
    "X = torch.cat((torch.arange(15, dtype=float), torch.arange(20, 35, dtype=float)), axis=0)\n",
    "y = torch.cat((torch.zeros(15, dtype=float), torch.ones(15, dtype=float)), axis=0)"
   ]
  },
  {
   "cell_type": "markdown",
   "metadata": {
    "papermill": {
     "duration": 0.009633,
     "end_time": "2020-12-02T19:52:07.286804",
     "exception": false,
     "start_time": "2020-12-02T19:52:07.277171",
     "status": "completed"
    },
    "tags": []
   },
   "source": [
    "Those 2 lines above look almost identical to the NumPy lines. We essentially replaced \"np\" with \"torch\" and voila, we're using PyTorch instead. \n",
    "\n",
    "Let's print out the content of the variables and look inside."
   ]
  },
  {
   "cell_type": "code",
   "execution_count": 3,
   "metadata": {
    "execution": {
     "iopub.execute_input": "2020-12-02T19:52:07.312295Z",
     "iopub.status.busy": "2020-12-02T19:52:07.311614Z",
     "iopub.status.idle": "2020-12-02T19:52:07.347402Z",
     "shell.execute_reply": "2020-12-02T19:52:07.346604Z"
    },
    "papermill": {
     "duration": 0.050867,
     "end_time": "2020-12-02T19:52:07.347554",
     "exception": false,
     "start_time": "2020-12-02T19:52:07.296687",
     "status": "completed"
    },
    "tags": []
   },
   "outputs": [
    {
     "name": "stdout",
     "output_type": "stream",
     "text": [
      "X\n",
      "tensor([ 0.,  1.,  2.,  3.,  4.,  5.,  6.,  7.,  8.,  9., 10., 11., 12., 13.,\n",
      "        14., 20., 21., 22., 23., 24., 25., 26., 27., 28., 29., 30., 31., 32.,\n",
      "        33., 34.], dtype=torch.float64)\n",
      "y\n",
      "tensor([0., 0., 0., 0., 0., 0., 0., 0., 0., 0., 0., 0., 0., 0., 0., 1., 1., 1.,\n",
      "        1., 1., 1., 1., 1., 1., 1., 1., 1., 1., 1., 1.], dtype=torch.float64)\n"
     ]
    }
   ],
   "source": [
    "print('X')\n",
    "print(X)\n",
    "print('y')\n",
    "print(y)"
   ]
  },
  {
   "cell_type": "markdown",
   "metadata": {
    "papermill": {
     "duration": 0.014746,
     "end_time": "2020-12-02T19:52:07.377787",
     "exception": false,
     "start_time": "2020-12-02T19:52:07.363041",
     "status": "completed"
    },
    "tags": []
   },
   "source": [
    "In NumPy, if you remember the types of our variables, you’d remember that they were arrays. As for with PyTorch, we're seeing something by the name of \"tensor\". What's that? I'll explain. In Python, natively, arrays don't actually exist. There are lists, but no arrays. NumPy was able to change that and introduce arrays to Python. The datasets we created in chapters 1 and 2 were actually NumPy arrays. PyTorch doesn't have arrays, rather, it has tensors. Technically speaking, tensors and arrays are not 1 of the same, but in practice, we use tensors exactly the same way we would use arrays. That means, in practice, a 1D array is the same as a tensor of rank 1, a 2D array is the same as a tensor of rank 2, and so on."
   ]
  },
  {
   "cell_type": "markdown",
   "metadata": {
    "papermill": {
     "duration": 0.016296,
     "end_time": "2020-12-02T19:52:07.409301",
     "exception": false,
     "start_time": "2020-12-02T19:52:07.393005",
     "status": "completed"
    },
    "tags": []
   },
   "source": [
    "## 3.1 No More NumPy!\n",
    "\n",
    "Let's continue rewriting our code from chapter 2, but using PyTorch instead."
   ]
  },
  {
   "cell_type": "code",
   "execution_count": 4,
   "metadata": {
    "execution": {
     "iopub.execute_input": "2020-12-02T19:52:07.446045Z",
     "iopub.status.busy": "2020-12-02T19:52:07.445297Z",
     "iopub.status.idle": "2020-12-02T19:52:07.449348Z",
     "shell.execute_reply": "2020-12-02T19:52:07.449936Z"
    },
    "papermill": {
     "duration": 0.025165,
     "end_time": "2020-12-02T19:52:07.450088",
     "exception": false,
     "start_time": "2020-12-02T19:52:07.424923",
     "status": "completed"
    },
    "tags": []
   },
   "outputs": [],
   "source": [
    "def BCE(y, y_pred): ##log loss error (binary cross entropy)\n",
    "  return -torch.sum((y*torch.log(y_pred) + (1-y)*torch.log(1-y_pred)))/y.shape[0]"
   ]
  },
  {
   "cell_type": "markdown",
   "metadata": {
    "papermill": {
     "duration": 0.009999,
     "end_time": "2020-12-02T19:52:07.470926",
     "exception": false,
     "start_time": "2020-12-02T19:52:07.460927",
     "status": "completed"
    },
    "tags": []
   },
   "source": [
    "We just had the loss function coded in PyTorch. Again, same thing as NumPy, minus, we replaced \"np\" with \"torch\".\n",
    "\n",
    "You're going to see the same below for the rest of the code for logistic regression."
   ]
  },
  {
   "cell_type": "code",
   "execution_count": 5,
   "metadata": {
    "execution": {
     "iopub.execute_input": "2020-12-02T19:52:07.509626Z",
     "iopub.status.busy": "2020-12-02T19:52:07.508928Z",
     "iopub.status.idle": "2020-12-02T19:55:15.181940Z",
     "shell.execute_reply": "2020-12-02T19:55:15.181030Z"
    },
    "papermill": {
     "duration": 187.701045,
     "end_time": "2020-12-02T19:55:15.182082",
     "exception": false,
     "start_time": "2020-12-02T19:52:07.481037",
     "status": "completed"
    },
    "tags": []
   },
   "outputs": [
    {
     "data": {
      "text/plain": [
       "<Figure size 432x288 with 0 Axes>"
      ]
     },
     "metadata": {},
     "output_type": "display_data"
    },
    {
     "data": {
      "image/png": "[encoded data removed]",
      "text/plain": [
       "<Figure size 432x288 with 2 Axes>"
      ]
     },
     "metadata": {
      "needs_background": "light"
     },
     "output_type": "display_data"
    }
   ],
   "source": [
    "epoch_loss = []\n",
    "\n",
    "weights = torch.tensor([0., 0.])\n",
    "learning_rate = 1e-4\n",
    "n = X.shape[0]\n",
    "\n",
    "for epoch in range(600000+1): \n",
    "    linear = weights[0]*X + weights[1]\n",
    "    y_pred = 1/(1+torch.exp(-linear))\n",
    "    loss = BCE(y, y_pred)\n",
    "    epoch_loss.append(loss)\n",
    "\n",
    "\n",
    "    if(epoch%50000 == 0):\n",
    "        ######demo purpose only#####\n",
    "        display.display(plt.gcf())\n",
    "        display.clear_output(wait=True)\n",
    "        ##########plotting##########\n",
    "        fig, (ax0, ax1) = plt.subplots(ncols=2, constrained_layout=True)\n",
    "        fig.suptitle('epoch = {0}'.format(epoch))\n",
    "        ax0.scatter(X, y)\n",
    "        ax0.plot(X, y_pred, 'r')\n",
    "        ax0.set_title('weight0 = {0:.1f}, weight1 = {1:.1f}'.format(weights[0], weights[1]))\n",
    "        ax1.set_title('bce = {0:.2f}'.format(loss))\n",
    "        ax1.plot(epoch_loss)\n",
    "        plt.show()\n",
    "        time.sleep(1)\n",
    "        ############################\n",
    "    \n",
    "    ###simplified slope and bias derivatives with respect to loss###  \n",
    "    D_mse_wrt_slope = torch.sum(X * (y - y_pred))\n",
    "    D_mse_wrt_bias = torch.sum(y - y_pred)\n",
    "    ###########\n",
    "\n",
    "    weights[0] += learning_rate * D_mse_wrt_slope\n",
    "    weights[1] += learning_rate * D_mse_wrt_bias"
   ]
  },
  {
   "cell_type": "markdown",
   "metadata": {
    "papermill": {
     "duration": 0.017807,
     "end_time": "2020-12-02T19:55:15.218156",
     "exception": false,
     "start_time": "2020-12-02T19:55:15.200349",
     "status": "completed"
    },
    "tags": []
   },
   "source": [
    "Looks almost identical to chapter 2. Same results, same learning rate, same number of epochs, but in PyTorch. Having said that, there is 1 difference in the code. Instead of having the variables \"slope\" and \"bias\", I replaced them both with 1 tensor which holds 2 values. My 0th (zero-ith) value of the tensor is synonymous with the slope and my 1st value of the tensor is synonymous with the bias.\n",
    "\n",
    "Logistic regression in PyTorch. That was easy. There's 1 more part to this chapter and we're done!"
   ]
  },
  {
   "cell_type": "markdown",
   "metadata": {
    "papermill": {
     "duration": 0.017509,
     "end_time": "2020-12-02T19:55:15.253685",
     "exception": false,
     "start_time": "2020-12-02T19:55:15.236176",
     "status": "completed"
    },
    "tags": []
   },
   "source": [
    "## 3.2 Autograd in PyTorch\n",
    "\n",
    "You must be thinking, \"we're almost through the chapter, but he still hasn't gone over why we switched from NumPy to PyTorch.\" I started the book with NumPy so that you can get a feel of it, considering it's 1 of the most popular data science libraries in Python. Did I have to start with NumPy? No. The reason I started with it is because NumPy is more popular than PyTorch. The reason for that is because people are just too intimidated to jump into deep learning. My point in starting with NumPy was to show that, things may seem scary, until you make the jump and realize it's not that bad.\n",
    "\n",
    "NumPy and PyTorch are similar in many ways, including a lot of their functions (which we've seen above), but there are 2 things which make PyTorch fundamentally different. The first is that, with PyTorch, we no longer have to calculate the derivatives. Absolutely no calculus required. PyTorch takes care of all of it. Instead of derivatives, they're known as gradients, but that's just a subtlety. The second fundamental difference is that matrix calculations are able to be performed on the GPU. Why is that important? Remember in chapter 1 how we got rid of the loops and NumPy did all the calculations in 1 line? We were able to perform the calculations all together in 1 line, but on the CPU, the calculations were being done 1 at a time. The GPU changes that, in that all the calculations are done in parallel. This incredibly improves computation time, hence the ability to compute a lot more data.\n",
    "\n",
    "We won't be using the GPU functionality of PyTorch in this book, but we will definitely be taking full advantage of its autograd (auto gradients) capabilities.\n",
    "\n",
    "Let's take a look at autograd in action."
   ]
  },
  {
   "cell_type": "code",
   "execution_count": 6,
   "metadata": {
    "execution": {
     "iopub.execute_input": "2020-12-02T19:55:15.304544Z",
     "iopub.status.busy": "2020-12-02T19:55:15.299029Z",
     "iopub.status.idle": "2020-12-02T19:56:14.735077Z",
     "shell.execute_reply": "2020-12-02T19:56:14.734486Z"
    },
    "papermill": {
     "duration": 59.463259,
     "end_time": "2020-12-02T19:56:14.735192",
     "exception": false,
     "start_time": "2020-12-02T19:55:15.271933",
     "status": "completed"
    },
    "tags": []
   },
   "outputs": [
    {
     "data": {
      "text/plain": [
       "<Figure size 432x288 with 0 Axes>"
      ]
     },
     "metadata": {},
     "output_type": "display_data"
    },
    {
     "data": {
      "image/png": "[encoded data removed]",
      "text/plain": [
       "<Figure size 432x288 with 2 Axes>"
      ]
     },
     "metadata": {
      "needs_background": "light"
     },
     "output_type": "display_data"
    }
   ],
   "source": [
    "epoch_loss = []\n",
    "\n",
    "weights = torch.tensor([0., 0.], requires_grad=True)\n",
    "learning_rate = 1e-2\n",
    "n = X.shape[0]\n",
    "\n",
    "for epoch in range(60000+1):\n",
    "    linear = weights[0]*X + weights[1]\n",
    "    y_pred = 1/(1+torch.exp(-linear))\n",
    "    loss = BCE(y, y_pred)\n",
    "    epoch_loss.append(loss.item())\n",
    "\n",
    "\n",
    "    if(epoch%5000 == 0):\n",
    "        ######demo purpose only#####\n",
    "        display.display(plt.gcf())\n",
    "        display.clear_output(wait=True)\n",
    "        ##########plotting##########\n",
    "        fig, (ax0, ax1) = plt.subplots(ncols=2, constrained_layout=True)\n",
    "        fig.suptitle('epoch = {0}'.format(epoch))\n",
    "        ax0.scatter(X, y)\n",
    "        ax0.plot(X, y_pred.detach().numpy(), 'r')\n",
    "        ax0.set_title('weight0 = {0:.1f}, weight1 = {1:.1f}'.format(weights[0], weights[1]))\n",
    "        ax1.set_title('bce = {0:.2f}'.format(loss))\n",
    "        ax1.plot(epoch_loss)\n",
    "        plt.show()\n",
    "        time.sleep(1)\n",
    "        ############################\n",
    "\n",
    "    ###autograd in action###\n",
    "    loss.backward()\n",
    "\n",
    "    with torch.no_grad():\n",
    "        weights -= learning_rate * weights.grad\n",
    "        \n",
    "    weights.grad.zero_()"
   ]
  },
  {
   "cell_type": "markdown",
   "metadata": {
    "papermill": {
     "duration": 0.013093,
     "end_time": "2020-12-02T19:56:14.761826",
     "exception": false,
     "start_time": "2020-12-02T19:56:14.748733",
     "status": "completed"
    },
    "tags": []
   },
   "source": [
    "Now that we're using PyTorch's autograd capabilities, let's go over the differences in the code. Let's start from the top. You'll see that in the weights tensor, we set requires_grad to true. What does that mean? Remember last chapter, we showed that the slope and the bias are the variables which influence how the sigmoid function fits the points on the graph. The requires_grad parameter of the tensor lets PyTorch know that the values in that tensor are those which need to be changed, so that our logistic regression can give us the optimal BCE.\n",
    "\n",
    "The second thing you'll see is that the learning rate is a lot bigger and the epochs are a lot lower. That actually works in our favour. When you use PyTorch's built-in functionality (e.g., autograd), the code is optimized and actually runs faster than writing things from scratch.\n",
    "\n",
    "The third thing you'll see is that we replaced our formulae derived via calculus with the line loss.backward(). That 1 line represents backpropagation. That's super powerful! That 1 line of code tells PyTorch that we're looking for the derivatives of the weights (i.e., slope and bias) with respect to our loss (which in this case is BCE). This functionality of PyTorch is exactly the reason why I chose to not go into the depths of using calculus to derive the formulae in this book.\n",
    "\n",
    "The next couple of lines is how we update our weights. Since our weights are in 1 tensor, we only need 1 line to update all of our weights.\n",
    "\n",
    "The last line may seem odd, but we covered it in chapter 1. I'll remind you, in case you forgot. Remember before we got rid of the loops? We were setting the derivatives to 0 before we calculated the derivatives for every point. I referred to it as zero-ing out the gradients. We did it, because we didn't want our values from our previous epoch to be added to the values in the current epoch. In PyTorch, we must explicitly clear out (also known as zero-out) the gradients before we continue to the next epoch.\n",
    "\n",
    "Congratulations! You ended this chapter, but more importantly, you moved on to PyTorch. It's currently 1 of the top deep learning frameworks used in research and the industry. Awesome work!"
   ]
  }
 ],
 "metadata": {
  "kernelspec": {
   "display_name": "Python 3",
   "language": "python",
   "name": "python3"
  },
  "language_info": {
   "codemirror_mode": {
    "name": "ipython",
    "version": 3
   },
   "file_extension": ".py",
   "mimetype": "text/x-python",
   "name": "python",
   "nbconvert_exporter": "python",
   "pygments_lexer": "ipython3",
   "version": "3.7.1"
  },
  "papermill": {
   "duration": 253.408157,
   "end_time": "2020-12-02T19:56:14.889584",
   "environment_variables": {},
   "exception": null,
   "input_path": "__notebook__.ipynb",
   "output_path": "__notebook__.ipynb",
   "parameters": {},
   "start_time": "2020-12-02T19:52:01.481427",
   "version": "2.1.0"
  }
 },
 "nbformat": 4,
 "nbformat_minor": 4
}
